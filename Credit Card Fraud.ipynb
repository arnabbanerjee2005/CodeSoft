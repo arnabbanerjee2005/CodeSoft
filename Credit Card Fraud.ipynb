{
 "cells": [
  {
   "cell_type": "code",
   "execution_count": 1,
   "id": "e2352478",
   "metadata": {
    "_cell_guid": "b1076dfc-b9ad-4769-8c92-a6c4dae69d19",
    "_uuid": "8f2839f25d086af736a60e9eeb907d3b93b6e0e5",
    "execution": {
     "iopub.execute_input": "2025-09-03T09:45:37.762984Z",
     "iopub.status.busy": "2025-09-03T09:45:37.762602Z",
     "iopub.status.idle": "2025-09-03T09:45:42.173958Z",
     "shell.execute_reply": "2025-09-03T09:45:42.172653Z"
    },
    "papermill": {
     "duration": 4.425867,
     "end_time": "2025-09-03T09:45:42.176215",
     "exception": false,
     "start_time": "2025-09-03T09:45:37.750348",
     "status": "completed"
    },
    "tags": []
   },
   "outputs": [],
   "source": [
    "import numpy as np\n",
    "import pandas as pd \n",
    "import matplotlib.pyplot as plt\n",
    "import seaborn as sns\n",
    "import warnings\n",
    "warnings.filterwarnings('ignore')"
   ]
  },
  {
   "cell_type": "code",
   "execution_count": 2,
   "id": "e47786b2",
   "metadata": {
    "execution": {
     "iopub.execute_input": "2025-09-03T09:45:42.198143Z",
     "iopub.status.busy": "2025-09-03T09:45:42.197607Z",
     "iopub.status.idle": "2025-09-03T09:45:42.762272Z",
     "shell.execute_reply": "2025-09-03T09:45:42.760733Z"
    },
    "papermill": {
     "duration": 0.577738,
     "end_time": "2025-09-03T09:45:42.764096",
     "exception": false,
     "start_time": "2025-09-03T09:45:42.186358",
     "status": "completed"
    },
    "tags": []
   },
   "outputs": [
    {
     "name": "stdout",
     "output_type": "stream",
     "text": [
      "Path to dataset files: /kaggle/input/fraud-detection\n"
     ]
    }
   ],
   "source": [
    "import kagglehub\n",
    "\n",
    "# Download latest version\n",
    "path = kagglehub.dataset_download(\"kartik2112/fraud-detection\")\n",
    "\n",
    "print(\"Path to dataset files:\", path)"
   ]
  },
  {
   "cell_type": "code",
   "execution_count": 3,
   "id": "90c893ce",
   "metadata": {
    "execution": {
     "iopub.execute_input": "2025-09-03T09:45:42.786412Z",
     "iopub.status.busy": "2025-09-03T09:45:42.786052Z",
     "iopub.status.idle": "2025-09-03T09:46:01.039463Z",
     "shell.execute_reply": "2025-09-03T09:46:01.038260Z"
    },
    "papermill": {
     "duration": 18.267237,
     "end_time": "2025-09-03T09:46:01.041415",
     "exception": false,
     "start_time": "2025-09-03T09:45:42.774178",
     "status": "completed"
    },
    "tags": []
   },
   "outputs": [],
   "source": [
    "# reading the data\n",
    "data_train = pd.read_csv(\"/kaggle/input/fraud-detection/fraudTrain.csv\")\n",
    "data_test = pd.read_csv(\"/kaggle/input/fraud-detection/fraudTest.csv\")"
   ]
  },
  {
   "cell_type": "code",
   "execution_count": 4,
   "id": "4e30e41f",
   "metadata": {
    "execution": {
     "iopub.execute_input": "2025-09-03T09:46:01.064288Z",
     "iopub.status.busy": "2025-09-03T09:46:01.063226Z",
     "iopub.status.idle": "2025-09-03T09:46:01.321727Z",
     "shell.execute_reply": "2025-09-03T09:46:01.320740Z"
    },
    "papermill": {
     "duration": 0.27176,
     "end_time": "2025-09-03T09:46:01.323619",
     "exception": false,
     "start_time": "2025-09-03T09:46:01.051859",
     "status": "completed"
    },
    "tags": []
   },
   "outputs": [
    {
     "data": {
      "text/html": [
       "<div>\n",
       "<style scoped>\n",
       "    .dataframe tbody tr th:only-of-type {\n",
       "        vertical-align: middle;\n",
       "    }\n",
       "\n",
       "    .dataframe tbody tr th {\n",
       "        vertical-align: top;\n",
       "    }\n",
       "\n",
       "    .dataframe thead th {\n",
       "        text-align: right;\n",
       "    }\n",
       "</style>\n",
       "<table border=\"1\" class=\"dataframe\">\n",
       "  <thead>\n",
       "    <tr style=\"text-align: right;\">\n",
       "      <th></th>\n",
       "      <th>Unnamed: 0</th>\n",
       "      <th>trans_date_trans_time</th>\n",
       "      <th>cc_num</th>\n",
       "      <th>merchant</th>\n",
       "      <th>category</th>\n",
       "      <th>amt</th>\n",
       "      <th>first</th>\n",
       "      <th>last</th>\n",
       "      <th>gender</th>\n",
       "      <th>street</th>\n",
       "      <th>...</th>\n",
       "      <th>lat</th>\n",
       "      <th>long</th>\n",
       "      <th>city_pop</th>\n",
       "      <th>job</th>\n",
       "      <th>dob</th>\n",
       "      <th>trans_num</th>\n",
       "      <th>unix_time</th>\n",
       "      <th>merch_lat</th>\n",
       "      <th>merch_long</th>\n",
       "      <th>is_fraud</th>\n",
       "    </tr>\n",
       "  </thead>\n",
       "  <tbody>\n",
       "    <tr>\n",
       "      <th>0</th>\n",
       "      <td>0</td>\n",
       "      <td>2019-01-01 00:00:18</td>\n",
       "      <td>2703186189652095</td>\n",
       "      <td>fraud_Rippin, Kub and Mann</td>\n",
       "      <td>misc_net</td>\n",
       "      <td>4.97</td>\n",
       "      <td>Jennifer</td>\n",
       "      <td>Banks</td>\n",
       "      <td>F</td>\n",
       "      <td>561 Perry Cove</td>\n",
       "      <td>...</td>\n",
       "      <td>36.0788</td>\n",
       "      <td>-81.1781</td>\n",
       "      <td>3495</td>\n",
       "      <td>Psychologist, counselling</td>\n",
       "      <td>1988-03-09</td>\n",
       "      <td>0b242abb623afc578575680df30655b9</td>\n",
       "      <td>1325376018</td>\n",
       "      <td>36.011293</td>\n",
       "      <td>-82.048315</td>\n",
       "      <td>0</td>\n",
       "    </tr>\n",
       "    <tr>\n",
       "      <th>1</th>\n",
       "      <td>1</td>\n",
       "      <td>2019-01-01 00:00:44</td>\n",
       "      <td>630423337322</td>\n",
       "      <td>fraud_Heller, Gutmann and Zieme</td>\n",
       "      <td>grocery_pos</td>\n",
       "      <td>107.23</td>\n",
       "      <td>Stephanie</td>\n",
       "      <td>Gill</td>\n",
       "      <td>F</td>\n",
       "      <td>43039 Riley Greens Suite 393</td>\n",
       "      <td>...</td>\n",
       "      <td>48.8878</td>\n",
       "      <td>-118.2105</td>\n",
       "      <td>149</td>\n",
       "      <td>Special educational needs teacher</td>\n",
       "      <td>1978-06-21</td>\n",
       "      <td>1f76529f8574734946361c461b024d99</td>\n",
       "      <td>1325376044</td>\n",
       "      <td>49.159047</td>\n",
       "      <td>-118.186462</td>\n",
       "      <td>0</td>\n",
       "    </tr>\n",
       "    <tr>\n",
       "      <th>2</th>\n",
       "      <td>2</td>\n",
       "      <td>2019-01-01 00:00:51</td>\n",
       "      <td>38859492057661</td>\n",
       "      <td>fraud_Lind-Buckridge</td>\n",
       "      <td>entertainment</td>\n",
       "      <td>220.11</td>\n",
       "      <td>Edward</td>\n",
       "      <td>Sanchez</td>\n",
       "      <td>M</td>\n",
       "      <td>594 White Dale Suite 530</td>\n",
       "      <td>...</td>\n",
       "      <td>42.1808</td>\n",
       "      <td>-112.2620</td>\n",
       "      <td>4154</td>\n",
       "      <td>Nature conservation officer</td>\n",
       "      <td>1962-01-19</td>\n",
       "      <td>a1a22d70485983eac12b5b88dad1cf95</td>\n",
       "      <td>1325376051</td>\n",
       "      <td>43.150704</td>\n",
       "      <td>-112.154481</td>\n",
       "      <td>0</td>\n",
       "    </tr>\n",
       "    <tr>\n",
       "      <th>3</th>\n",
       "      <td>3</td>\n",
       "      <td>2019-01-01 00:01:16</td>\n",
       "      <td>3534093764340240</td>\n",
       "      <td>fraud_Kutch, Hermiston and Farrell</td>\n",
       "      <td>gas_transport</td>\n",
       "      <td>45.00</td>\n",
       "      <td>Jeremy</td>\n",
       "      <td>White</td>\n",
       "      <td>M</td>\n",
       "      <td>9443 Cynthia Court Apt. 038</td>\n",
       "      <td>...</td>\n",
       "      <td>46.2306</td>\n",
       "      <td>-112.1138</td>\n",
       "      <td>1939</td>\n",
       "      <td>Patent attorney</td>\n",
       "      <td>1967-01-12</td>\n",
       "      <td>6b849c168bdad6f867558c3793159a81</td>\n",
       "      <td>1325376076</td>\n",
       "      <td>47.034331</td>\n",
       "      <td>-112.561071</td>\n",
       "      <td>0</td>\n",
       "    </tr>\n",
       "    <tr>\n",
       "      <th>4</th>\n",
       "      <td>4</td>\n",
       "      <td>2019-01-01 00:03:06</td>\n",
       "      <td>375534208663984</td>\n",
       "      <td>fraud_Keeling-Crist</td>\n",
       "      <td>misc_pos</td>\n",
       "      <td>41.96</td>\n",
       "      <td>Tyler</td>\n",
       "      <td>Garcia</td>\n",
       "      <td>M</td>\n",
       "      <td>408 Bradley Rest</td>\n",
       "      <td>...</td>\n",
       "      <td>38.4207</td>\n",
       "      <td>-79.4629</td>\n",
       "      <td>99</td>\n",
       "      <td>Dance movement psychotherapist</td>\n",
       "      <td>1986-03-28</td>\n",
       "      <td>a41d7549acf90789359a9aa5346dcb46</td>\n",
       "      <td>1325376186</td>\n",
       "      <td>38.674999</td>\n",
       "      <td>-78.632459</td>\n",
       "      <td>0</td>\n",
       "    </tr>\n",
       "  </tbody>\n",
       "</table>\n",
       "<p>5 rows × 23 columns</p>\n",
       "</div>"
      ],
      "text/plain": [
       "   Unnamed: 0 trans_date_trans_time            cc_num  \\\n",
       "0           0   2019-01-01 00:00:18  2703186189652095   \n",
       "1           1   2019-01-01 00:00:44      630423337322   \n",
       "2           2   2019-01-01 00:00:51    38859492057661   \n",
       "3           3   2019-01-01 00:01:16  3534093764340240   \n",
       "4           4   2019-01-01 00:03:06   375534208663984   \n",
       "\n",
       "                             merchant       category     amt      first  \\\n",
       "0          fraud_Rippin, Kub and Mann       misc_net    4.97   Jennifer   \n",
       "1     fraud_Heller, Gutmann and Zieme    grocery_pos  107.23  Stephanie   \n",
       "2                fraud_Lind-Buckridge  entertainment  220.11     Edward   \n",
       "3  fraud_Kutch, Hermiston and Farrell  gas_transport   45.00     Jeremy   \n",
       "4                 fraud_Keeling-Crist       misc_pos   41.96      Tyler   \n",
       "\n",
       "      last gender                        street  ...      lat      long  \\\n",
       "0    Banks      F                561 Perry Cove  ...  36.0788  -81.1781   \n",
       "1     Gill      F  43039 Riley Greens Suite 393  ...  48.8878 -118.2105   \n",
       "2  Sanchez      M      594 White Dale Suite 530  ...  42.1808 -112.2620   \n",
       "3    White      M   9443 Cynthia Court Apt. 038  ...  46.2306 -112.1138   \n",
       "4   Garcia      M              408 Bradley Rest  ...  38.4207  -79.4629   \n",
       "\n",
       "   city_pop                                job         dob  \\\n",
       "0      3495          Psychologist, counselling  1988-03-09   \n",
       "1       149  Special educational needs teacher  1978-06-21   \n",
       "2      4154        Nature conservation officer  1962-01-19   \n",
       "3      1939                    Patent attorney  1967-01-12   \n",
       "4        99     Dance movement psychotherapist  1986-03-28   \n",
       "\n",
       "                          trans_num   unix_time  merch_lat  merch_long  \\\n",
       "0  0b242abb623afc578575680df30655b9  1325376018  36.011293  -82.048315   \n",
       "1  1f76529f8574734946361c461b024d99  1325376044  49.159047 -118.186462   \n",
       "2  a1a22d70485983eac12b5b88dad1cf95  1325376051  43.150704 -112.154481   \n",
       "3  6b849c168bdad6f867558c3793159a81  1325376076  47.034331 -112.561071   \n",
       "4  a41d7549acf90789359a9aa5346dcb46  1325376186  38.674999  -78.632459   \n",
       "\n",
       "   is_fraud  \n",
       "0         0  \n",
       "1         0  \n",
       "2         0  \n",
       "3         0  \n",
       "4         0  \n",
       "\n",
       "[5 rows x 23 columns]"
      ]
     },
     "execution_count": 4,
     "metadata": {},
     "output_type": "execute_result"
    }
   ],
   "source": [
    "# combining all train and test data\n",
    "full_data = pd.concat([data_train, data_test], axis=0)\n",
    "full_data.head()"
   ]
  },
  {
   "cell_type": "markdown",
   "id": "46eba535",
   "metadata": {
    "papermill": {
     "duration": 0.009794,
     "end_time": "2025-09-03T09:46:01.343889",
     "exception": false,
     "start_time": "2025-09-03T09:46:01.334095",
     "status": "completed"
    },
    "tags": []
   },
   "source": [
    "# ****Data Cleansing**** "
   ]
  },
  {
   "cell_type": "code",
   "execution_count": 5,
   "id": "cb0cf395",
   "metadata": {
    "execution": {
     "iopub.execute_input": "2025-09-03T09:46:01.365397Z",
     "iopub.status.busy": "2025-09-03T09:46:01.364582Z",
     "iopub.status.idle": "2025-09-03T09:46:02.565774Z",
     "shell.execute_reply": "2025-09-03T09:46:02.564713Z"
    },
    "papermill": {
     "duration": 1.213834,
     "end_time": "2025-09-03T09:46:02.567577",
     "exception": false,
     "start_time": "2025-09-03T09:46:01.353743",
     "status": "completed"
    },
    "tags": []
   },
   "outputs": [
    {
     "data": {
      "text/plain": [
       "Unnamed: 0               0\n",
       "trans_date_trans_time    0\n",
       "cc_num                   0\n",
       "merchant                 0\n",
       "category                 0\n",
       "amt                      0\n",
       "first                    0\n",
       "last                     0\n",
       "gender                   0\n",
       "street                   0\n",
       "city                     0\n",
       "state                    0\n",
       "zip                      0\n",
       "lat                      0\n",
       "long                     0\n",
       "city_pop                 0\n",
       "job                      0\n",
       "dob                      0\n",
       "trans_num                0\n",
       "unix_time                0\n",
       "merch_lat                0\n",
       "merch_long               0\n",
       "is_fraud                 0\n",
       "dtype: int64"
      ]
     },
     "execution_count": 5,
     "metadata": {},
     "output_type": "execute_result"
    }
   ],
   "source": [
    "full_data.isnull().sum()"
   ]
  },
  {
   "cell_type": "code",
   "execution_count": 6,
   "id": "e8727f52",
   "metadata": {
    "execution": {
     "iopub.execute_input": "2025-09-03T09:46:02.590215Z",
     "iopub.status.busy": "2025-09-03T09:46:02.589669Z",
     "iopub.status.idle": "2025-09-03T09:46:08.212893Z",
     "shell.execute_reply": "2025-09-03T09:46:08.211583Z"
    },
    "papermill": {
     "duration": 5.636673,
     "end_time": "2025-09-03T09:46:08.214709",
     "exception": false,
     "start_time": "2025-09-03T09:46:02.578036",
     "status": "completed"
    },
    "tags": []
   },
   "outputs": [
    {
     "data": {
      "text/plain": [
       "0"
      ]
     },
     "execution_count": 6,
     "metadata": {},
     "output_type": "execute_result"
    }
   ],
   "source": [
    "# check for duplicated records\n",
    "full_data.duplicated().sum()"
   ]
  },
  {
   "cell_type": "code",
   "execution_count": 7,
   "id": "563049cf",
   "metadata": {
    "execution": {
     "iopub.execute_input": "2025-09-03T09:46:08.237605Z",
     "iopub.status.busy": "2025-09-03T09:46:08.237269Z",
     "iopub.status.idle": "2025-09-03T09:46:08.451067Z",
     "shell.execute_reply": "2025-09-03T09:46:08.449974Z"
    },
    "papermill": {
     "duration": 0.227694,
     "end_time": "2025-09-03T09:46:08.452944",
     "exception": false,
     "start_time": "2025-09-03T09:46:08.225250",
     "status": "completed"
    },
    "tags": []
   },
   "outputs": [],
   "source": [
    "# drop irrelevent col \n",
    "full_data.drop(columns=['Unnamed: 0', 'cc_num', 'first', 'first', 'last', 'unix_time', 'trans_num', 'street', 'city'], inplace=True)"
   ]
  },
  {
   "cell_type": "code",
   "execution_count": 8,
   "id": "48b24e40",
   "metadata": {
    "execution": {
     "iopub.execute_input": "2025-09-03T09:46:08.476645Z",
     "iopub.status.busy": "2025-09-03T09:46:08.475647Z",
     "iopub.status.idle": "2025-09-03T09:46:08.979041Z",
     "shell.execute_reply": "2025-09-03T09:46:08.977748Z"
    },
    "papermill": {
     "duration": 0.517627,
     "end_time": "2025-09-03T09:46:08.980985",
     "exception": false,
     "start_time": "2025-09-03T09:46:08.463358",
     "status": "completed"
    },
    "tags": []
   },
   "outputs": [],
   "source": [
    "# convert to correct datetime type\n",
    "full_data['trans_date_trans_time'] = pd.to_datetime(full_data['trans_date_trans_time'])"
   ]
  },
  {
   "cell_type": "code",
   "execution_count": 9,
   "id": "b145c521",
   "metadata": {
    "execution": {
     "iopub.execute_input": "2025-09-03T09:46:09.002948Z",
     "iopub.status.busy": "2025-09-03T09:46:09.002566Z",
     "iopub.status.idle": "2025-09-03T09:46:09.498168Z",
     "shell.execute_reply": "2025-09-03T09:46:09.497114Z"
    },
    "papermill": {
     "duration": 0.508642,
     "end_time": "2025-09-03T09:46:09.500094",
     "exception": false,
     "start_time": "2025-09-03T09:46:08.991452",
     "status": "completed"
    },
    "tags": []
   },
   "outputs": [],
   "source": [
    "# extract features from data - feature engg\n",
    "full_data['day'] = full_data['trans_date_trans_time'].dt.day\n",
    "full_data['month'] = full_data['trans_date_trans_time'].dt.month\n",
    "full_data['year'] = full_data['trans_date_trans_time'].dt.year\n",
    "full_data['hour'] = full_data['trans_date_trans_time'].dt.hour\n",
    "full_data['minute'] = full_data['trans_date_trans_time'].dt.minute\n",
    "\n",
    "full_data.drop(columns=['trans_date_trans_time'], inplace=True)"
   ]
  },
  {
   "cell_type": "code",
   "execution_count": 10,
   "id": "bc53ea15",
   "metadata": {
    "execution": {
     "iopub.execute_input": "2025-09-03T09:46:09.522396Z",
     "iopub.status.busy": "2025-09-03T09:46:09.522082Z",
     "iopub.status.idle": "2025-09-03T09:46:10.033155Z",
     "shell.execute_reply": "2025-09-03T09:46:10.031784Z"
    },
    "papermill": {
     "duration": 0.524613,
     "end_time": "2025-09-03T09:46:10.034967",
     "exception": false,
     "start_time": "2025-09-03T09:46:09.510354",
     "status": "completed"
    },
    "tags": []
   },
   "outputs": [],
   "source": [
    "# extract age of person\n",
    "full_data['dob'] = pd.to_datetime(full_data['dob'])\n",
    "full_data['year_dob'] = full_data['dob'].dt.year\n",
    "full_data['age'] = full_data['year'] - full_data['year_dob']\n"
   ]
  },
  {
   "cell_type": "code",
   "execution_count": 11,
   "id": "224305ee",
   "metadata": {
    "execution": {
     "iopub.execute_input": "2025-09-03T09:46:10.056935Z",
     "iopub.status.busy": "2025-09-03T09:46:10.056567Z",
     "iopub.status.idle": "2025-09-03T09:46:10.158350Z",
     "shell.execute_reply": "2025-09-03T09:46:10.157375Z"
    },
    "papermill": {
     "duration": 0.114892,
     "end_time": "2025-09-03T09:46:10.160260",
     "exception": false,
     "start_time": "2025-09-03T09:46:10.045368",
     "status": "completed"
    },
    "tags": []
   },
   "outputs": [
    {
     "data": {
      "text/html": [
       "<div>\n",
       "<style scoped>\n",
       "    .dataframe tbody tr th:only-of-type {\n",
       "        vertical-align: middle;\n",
       "    }\n",
       "\n",
       "    .dataframe tbody tr th {\n",
       "        vertical-align: top;\n",
       "    }\n",
       "\n",
       "    .dataframe thead th {\n",
       "        text-align: right;\n",
       "    }\n",
       "</style>\n",
       "<table border=\"1\" class=\"dataframe\">\n",
       "  <thead>\n",
       "    <tr style=\"text-align: right;\">\n",
       "      <th></th>\n",
       "      <th>merchant</th>\n",
       "      <th>category</th>\n",
       "      <th>amt</th>\n",
       "      <th>gender</th>\n",
       "      <th>state</th>\n",
       "      <th>zip</th>\n",
       "      <th>lat</th>\n",
       "      <th>long</th>\n",
       "      <th>city_pop</th>\n",
       "      <th>job</th>\n",
       "      <th>...</th>\n",
       "      <th>merch_lat</th>\n",
       "      <th>merch_long</th>\n",
       "      <th>is_fraud</th>\n",
       "      <th>day</th>\n",
       "      <th>month</th>\n",
       "      <th>year</th>\n",
       "      <th>hour</th>\n",
       "      <th>minute</th>\n",
       "      <th>year_dob</th>\n",
       "      <th>age</th>\n",
       "    </tr>\n",
       "  </thead>\n",
       "  <tbody>\n",
       "    <tr>\n",
       "      <th>530576</th>\n",
       "      <td>fraud_Dare, Fritsch and Zboncak</td>\n",
       "      <td>health_fitness</td>\n",
       "      <td>63.39</td>\n",
       "      <td>M</td>\n",
       "      <td>IL</td>\n",
       "      <td>60091</td>\n",
       "      <td>42.0765</td>\n",
       "      <td>-87.7246</td>\n",
       "      <td>27020</td>\n",
       "      <td>Trade mark attorney</td>\n",
       "      <td>...</td>\n",
       "      <td>42.379437</td>\n",
       "      <td>-88.525976</td>\n",
       "      <td>0</td>\n",
       "      <td>26</td>\n",
       "      <td>12</td>\n",
       "      <td>2020</td>\n",
       "      <td>19</td>\n",
       "      <td>9</td>\n",
       "      <td>1986</td>\n",
       "      <td>34</td>\n",
       "    </tr>\n",
       "    <tr>\n",
       "      <th>755208</th>\n",
       "      <td>fraud_Heaney-Marquardt</td>\n",
       "      <td>entertainment</td>\n",
       "      <td>79.50</td>\n",
       "      <td>M</td>\n",
       "      <td>SD</td>\n",
       "      <td>57641</td>\n",
       "      <td>45.7084</td>\n",
       "      <td>-101.1546</td>\n",
       "      <td>295</td>\n",
       "      <td>Designer, industrial/product</td>\n",
       "      <td>...</td>\n",
       "      <td>46.340892</td>\n",
       "      <td>-101.793294</td>\n",
       "      <td>0</td>\n",
       "      <td>18</td>\n",
       "      <td>11</td>\n",
       "      <td>2019</td>\n",
       "      <td>20</td>\n",
       "      <td>6</td>\n",
       "      <td>1981</td>\n",
       "      <td>38</td>\n",
       "    </tr>\n",
       "    <tr>\n",
       "      <th>303610</th>\n",
       "      <td>fraud_Goyette-Herzog</td>\n",
       "      <td>travel</td>\n",
       "      <td>7.86</td>\n",
       "      <td>M</td>\n",
       "      <td>NV</td>\n",
       "      <td>89512</td>\n",
       "      <td>39.5483</td>\n",
       "      <td>-119.7957</td>\n",
       "      <td>276896</td>\n",
       "      <td>Immunologist</td>\n",
       "      <td>...</td>\n",
       "      <td>38.614004</td>\n",
       "      <td>-120.588575</td>\n",
       "      <td>0</td>\n",
       "      <td>27</td>\n",
       "      <td>5</td>\n",
       "      <td>2019</td>\n",
       "      <td>14</td>\n",
       "      <td>46</td>\n",
       "      <td>1997</td>\n",
       "      <td>22</td>\n",
       "    </tr>\n",
       "    <tr>\n",
       "      <th>499096</th>\n",
       "      <td>fraud_Barrows PLC</td>\n",
       "      <td>shopping_pos</td>\n",
       "      <td>136.01</td>\n",
       "      <td>M</td>\n",
       "      <td>MS</td>\n",
       "      <td>39113</td>\n",
       "      <td>32.9013</td>\n",
       "      <td>-91.0286</td>\n",
       "      <td>595</td>\n",
       "      <td>Technical brewer</td>\n",
       "      <td>...</td>\n",
       "      <td>32.470328</td>\n",
       "      <td>-91.121542</td>\n",
       "      <td>0</td>\n",
       "      <td>5</td>\n",
       "      <td>8</td>\n",
       "      <td>2019</td>\n",
       "      <td>2</td>\n",
       "      <td>57</td>\n",
       "      <td>1979</td>\n",
       "      <td>40</td>\n",
       "    </tr>\n",
       "    <tr>\n",
       "      <th>592427</th>\n",
       "      <td>fraud_Ratke and Sons</td>\n",
       "      <td>health_fitness</td>\n",
       "      <td>23.80</td>\n",
       "      <td>F</td>\n",
       "      <td>NH</td>\n",
       "      <td>3816</td>\n",
       "      <td>43.6849</td>\n",
       "      <td>-71.2551</td>\n",
       "      <td>1368</td>\n",
       "      <td>Optician, dispensing</td>\n",
       "      <td>...</td>\n",
       "      <td>43.325966</td>\n",
       "      <td>-71.044169</td>\n",
       "      <td>0</td>\n",
       "      <td>8</td>\n",
       "      <td>9</td>\n",
       "      <td>2019</td>\n",
       "      <td>14</td>\n",
       "      <td>54</td>\n",
       "      <td>1971</td>\n",
       "      <td>48</td>\n",
       "    </tr>\n",
       "    <tr>\n",
       "      <th>6051</th>\n",
       "      <td>fraud_Schaefer, Fay and Hilll</td>\n",
       "      <td>entertainment</td>\n",
       "      <td>118.52</td>\n",
       "      <td>M</td>\n",
       "      <td>TN</td>\n",
       "      <td>37754</td>\n",
       "      <td>36.1150</td>\n",
       "      <td>-84.0438</td>\n",
       "      <td>4729</td>\n",
       "      <td>Geologist, wellsite</td>\n",
       "      <td>...</td>\n",
       "      <td>35.189606</td>\n",
       "      <td>-84.519168</td>\n",
       "      <td>0</td>\n",
       "      <td>22</td>\n",
       "      <td>6</td>\n",
       "      <td>2020</td>\n",
       "      <td>23</td>\n",
       "      <td>45</td>\n",
       "      <td>1982</td>\n",
       "      <td>38</td>\n",
       "    </tr>\n",
       "    <tr>\n",
       "      <th>668503</th>\n",
       "      <td>fraud_Barton Inc</td>\n",
       "      <td>grocery_pos</td>\n",
       "      <td>187.96</td>\n",
       "      <td>F</td>\n",
       "      <td>GA</td>\n",
       "      <td>31563</td>\n",
       "      <td>31.6489</td>\n",
       "      <td>-82.1982</td>\n",
       "      <td>1324</td>\n",
       "      <td>Engineer, technical sales</td>\n",
       "      <td>...</td>\n",
       "      <td>32.335873</td>\n",
       "      <td>-82.143130</td>\n",
       "      <td>0</td>\n",
       "      <td>12</td>\n",
       "      <td>10</td>\n",
       "      <td>2019</td>\n",
       "      <td>11</td>\n",
       "      <td>31</td>\n",
       "      <td>1926</td>\n",
       "      <td>93</td>\n",
       "    </tr>\n",
       "    <tr>\n",
       "      <th>1077494</th>\n",
       "      <td>fraud_Howe PLC</td>\n",
       "      <td>entertainment</td>\n",
       "      <td>24.74</td>\n",
       "      <td>F</td>\n",
       "      <td>OR</td>\n",
       "      <td>97014</td>\n",
       "      <td>45.6710</td>\n",
       "      <td>-121.8686</td>\n",
       "      <td>1288</td>\n",
       "      <td>Barrister</td>\n",
       "      <td>...</td>\n",
       "      <td>46.329709</td>\n",
       "      <td>-122.868173</td>\n",
       "      <td>0</td>\n",
       "      <td>23</td>\n",
       "      <td>3</td>\n",
       "      <td>2020</td>\n",
       "      <td>16</td>\n",
       "      <td>4</td>\n",
       "      <td>1936</td>\n",
       "      <td>84</td>\n",
       "    </tr>\n",
       "    <tr>\n",
       "      <th>1032123</th>\n",
       "      <td>fraud_Hills, Hegmann and Schaefer</td>\n",
       "      <td>health_fitness</td>\n",
       "      <td>12.67</td>\n",
       "      <td>F</td>\n",
       "      <td>NY</td>\n",
       "      <td>12419</td>\n",
       "      <td>41.8467</td>\n",
       "      <td>-74.1038</td>\n",
       "      <td>722</td>\n",
       "      <td>Comptroller</td>\n",
       "      <td>...</td>\n",
       "      <td>42.465625</td>\n",
       "      <td>-74.905004</td>\n",
       "      <td>0</td>\n",
       "      <td>3</td>\n",
       "      <td>3</td>\n",
       "      <td>2020</td>\n",
       "      <td>13</td>\n",
       "      <td>45</td>\n",
       "      <td>1990</td>\n",
       "      <td>30</td>\n",
       "    </tr>\n",
       "    <tr>\n",
       "      <th>223641</th>\n",
       "      <td>fraud_Beier-Hyatt</td>\n",
       "      <td>shopping_pos</td>\n",
       "      <td>2.43</td>\n",
       "      <td>F</td>\n",
       "      <td>GA</td>\n",
       "      <td>31046</td>\n",
       "      <td>33.1194</td>\n",
       "      <td>-83.8235</td>\n",
       "      <td>3343</td>\n",
       "      <td>Theatre manager</td>\n",
       "      <td>...</td>\n",
       "      <td>32.881735</td>\n",
       "      <td>-83.187996</td>\n",
       "      <td>0</td>\n",
       "      <td>22</td>\n",
       "      <td>4</td>\n",
       "      <td>2019</td>\n",
       "      <td>21</td>\n",
       "      <td>50</td>\n",
       "      <td>1990</td>\n",
       "      <td>29</td>\n",
       "    </tr>\n",
       "  </tbody>\n",
       "</table>\n",
       "<p>10 rows × 21 columns</p>\n",
       "</div>"
      ],
      "text/plain": [
       "                                  merchant        category     amt gender  \\\n",
       "530576     fraud_Dare, Fritsch and Zboncak  health_fitness   63.39      M   \n",
       "755208              fraud_Heaney-Marquardt   entertainment   79.50      M   \n",
       "303610                fraud_Goyette-Herzog          travel    7.86      M   \n",
       "499096                   fraud_Barrows PLC    shopping_pos  136.01      M   \n",
       "592427                fraud_Ratke and Sons  health_fitness   23.80      F   \n",
       "6051         fraud_Schaefer, Fay and Hilll   entertainment  118.52      M   \n",
       "668503                    fraud_Barton Inc     grocery_pos  187.96      F   \n",
       "1077494                     fraud_Howe PLC   entertainment   24.74      F   \n",
       "1032123  fraud_Hills, Hegmann and Schaefer  health_fitness   12.67      F   \n",
       "223641                   fraud_Beier-Hyatt    shopping_pos    2.43      F   \n",
       "\n",
       "        state    zip      lat      long  city_pop  \\\n",
       "530576     IL  60091  42.0765  -87.7246     27020   \n",
       "755208     SD  57641  45.7084 -101.1546       295   \n",
       "303610     NV  89512  39.5483 -119.7957    276896   \n",
       "499096     MS  39113  32.9013  -91.0286       595   \n",
       "592427     NH   3816  43.6849  -71.2551      1368   \n",
       "6051       TN  37754  36.1150  -84.0438      4729   \n",
       "668503     GA  31563  31.6489  -82.1982      1324   \n",
       "1077494    OR  97014  45.6710 -121.8686      1288   \n",
       "1032123    NY  12419  41.8467  -74.1038       722   \n",
       "223641     GA  31046  33.1194  -83.8235      3343   \n",
       "\n",
       "                                  job  ...  merch_lat  merch_long  is_fraud  \\\n",
       "530576            Trade mark attorney  ...  42.379437  -88.525976         0   \n",
       "755208   Designer, industrial/product  ...  46.340892 -101.793294         0   \n",
       "303610                   Immunologist  ...  38.614004 -120.588575         0   \n",
       "499096               Technical brewer  ...  32.470328  -91.121542         0   \n",
       "592427           Optician, dispensing  ...  43.325966  -71.044169         0   \n",
       "6051              Geologist, wellsite  ...  35.189606  -84.519168         0   \n",
       "668503      Engineer, technical sales  ...  32.335873  -82.143130         0   \n",
       "1077494                     Barrister  ...  46.329709 -122.868173         0   \n",
       "1032123                   Comptroller  ...  42.465625  -74.905004         0   \n",
       "223641                Theatre manager  ...  32.881735  -83.187996         0   \n",
       "\n",
       "         day  month  year  hour  minute  year_dob  age  \n",
       "530576    26     12  2020    19       9      1986   34  \n",
       "755208    18     11  2019    20       6      1981   38  \n",
       "303610    27      5  2019    14      46      1997   22  \n",
       "499096     5      8  2019     2      57      1979   40  \n",
       "592427     8      9  2019    14      54      1971   48  \n",
       "6051      22      6  2020    23      45      1982   38  \n",
       "668503    12     10  2019    11      31      1926   93  \n",
       "1077494   23      3  2020    16       4      1936   84  \n",
       "1032123    3      3  2020    13      45      1990   30  \n",
       "223641    22      4  2019    21      50      1990   29  \n",
       "\n",
       "[10 rows x 21 columns]"
      ]
     },
     "execution_count": 11,
     "metadata": {},
     "output_type": "execute_result"
    }
   ],
   "source": [
    "full_data.sample(10)"
   ]
  },
  {
   "cell_type": "markdown",
   "id": "213e6ecb",
   "metadata": {
    "papermill": {
     "duration": 0.010284,
     "end_time": "2025-09-03T09:46:10.181579",
     "exception": false,
     "start_time": "2025-09-03T09:46:10.171295",
     "status": "completed"
    },
    "tags": []
   },
   "source": [
    "# ****EDA**** "
   ]
  },
  {
   "cell_type": "code",
   "execution_count": 12,
   "id": "94ba2c22",
   "metadata": {
    "execution": {
     "iopub.execute_input": "2025-09-03T09:46:10.205450Z",
     "iopub.status.busy": "2025-09-03T09:46:10.205109Z",
     "iopub.status.idle": "2025-09-03T09:46:11.476222Z",
     "shell.execute_reply": "2025-09-03T09:46:11.475198Z"
    },
    "papermill": {
     "duration": 1.285239,
     "end_time": "2025-09-03T09:46:11.477976",
     "exception": false,
     "start_time": "2025-09-03T09:46:10.192737",
     "status": "completed"
    },
    "tags": []
   },
   "outputs": [
    {
     "data": {
      "text/html": [
       "<div>\n",
       "<style scoped>\n",
       "    .dataframe tbody tr th:only-of-type {\n",
       "        vertical-align: middle;\n",
       "    }\n",
       "\n",
       "    .dataframe tbody tr th {\n",
       "        vertical-align: top;\n",
       "    }\n",
       "\n",
       "    .dataframe thead th {\n",
       "        text-align: right;\n",
       "    }\n",
       "</style>\n",
       "<table border=\"1\" class=\"dataframe\">\n",
       "  <thead>\n",
       "    <tr style=\"text-align: right;\">\n",
       "      <th></th>\n",
       "      <th>amt</th>\n",
       "      <th>zip</th>\n",
       "      <th>lat</th>\n",
       "      <th>long</th>\n",
       "      <th>city_pop</th>\n",
       "      <th>dob</th>\n",
       "      <th>merch_lat</th>\n",
       "      <th>merch_long</th>\n",
       "      <th>is_fraud</th>\n",
       "      <th>day</th>\n",
       "      <th>month</th>\n",
       "      <th>year</th>\n",
       "      <th>hour</th>\n",
       "      <th>minute</th>\n",
       "      <th>year_dob</th>\n",
       "      <th>age</th>\n",
       "    </tr>\n",
       "  </thead>\n",
       "  <tbody>\n",
       "    <tr>\n",
       "      <th>count</th>\n",
       "      <td>1.852394e+06</td>\n",
       "      <td>1.852394e+06</td>\n",
       "      <td>1.852394e+06</td>\n",
       "      <td>1.852394e+06</td>\n",
       "      <td>1.852394e+06</td>\n",
       "      <td>1852394</td>\n",
       "      <td>1.852394e+06</td>\n",
       "      <td>1.852394e+06</td>\n",
       "      <td>1.852394e+06</td>\n",
       "      <td>1.852394e+06</td>\n",
       "      <td>1.852394e+06</td>\n",
       "      <td>1.852394e+06</td>\n",
       "      <td>1.852394e+06</td>\n",
       "      <td>1.852394e+06</td>\n",
       "      <td>1.852394e+06</td>\n",
       "      <td>1.852394e+06</td>\n",
       "    </tr>\n",
       "    <tr>\n",
       "      <th>mean</th>\n",
       "      <td>7.006357e+01</td>\n",
       "      <td>4.881326e+04</td>\n",
       "      <td>3.853931e+01</td>\n",
       "      <td>-9.022783e+01</td>\n",
       "      <td>8.864367e+04</td>\n",
       "      <td>1973-10-15 11:05:05.744458240</td>\n",
       "      <td>3.853898e+01</td>\n",
       "      <td>-9.022794e+01</td>\n",
       "      <td>5.210015e-03</td>\n",
       "      <td>1.585076e+01</td>\n",
       "      <td>7.152067e+00</td>\n",
       "      <td>2.019501e+03</td>\n",
       "      <td>1.280612e+01</td>\n",
       "      <td>2.949731e+01</td>\n",
       "      <td>1.973289e+03</td>\n",
       "      <td>4.621138e+01</td>\n",
       "    </tr>\n",
       "    <tr>\n",
       "      <th>min</th>\n",
       "      <td>1.000000e+00</td>\n",
       "      <td>1.257000e+03</td>\n",
       "      <td>2.002710e+01</td>\n",
       "      <td>-1.656723e+02</td>\n",
       "      <td>2.300000e+01</td>\n",
       "      <td>1924-10-30 00:00:00</td>\n",
       "      <td>1.902742e+01</td>\n",
       "      <td>-1.666716e+02</td>\n",
       "      <td>0.000000e+00</td>\n",
       "      <td>1.000000e+00</td>\n",
       "      <td>1.000000e+00</td>\n",
       "      <td>2.019000e+03</td>\n",
       "      <td>0.000000e+00</td>\n",
       "      <td>0.000000e+00</td>\n",
       "      <td>1.924000e+03</td>\n",
       "      <td>1.400000e+01</td>\n",
       "    </tr>\n",
       "    <tr>\n",
       "      <th>25%</th>\n",
       "      <td>9.640000e+00</td>\n",
       "      <td>2.623700e+04</td>\n",
       "      <td>3.466890e+01</td>\n",
       "      <td>-9.679800e+01</td>\n",
       "      <td>7.410000e+02</td>\n",
       "      <td>1962-08-13 00:00:00</td>\n",
       "      <td>3.474012e+01</td>\n",
       "      <td>-9.689944e+01</td>\n",
       "      <td>0.000000e+00</td>\n",
       "      <td>8.000000e+00</td>\n",
       "      <td>4.000000e+00</td>\n",
       "      <td>2.019000e+03</td>\n",
       "      <td>7.000000e+00</td>\n",
       "      <td>1.400000e+01</td>\n",
       "      <td>1.962000e+03</td>\n",
       "      <td>3.300000e+01</td>\n",
       "    </tr>\n",
       "    <tr>\n",
       "      <th>50%</th>\n",
       "      <td>4.745000e+01</td>\n",
       "      <td>4.817400e+04</td>\n",
       "      <td>3.935430e+01</td>\n",
       "      <td>-8.747690e+01</td>\n",
       "      <td>2.443000e+03</td>\n",
       "      <td>1975-11-30 00:00:00</td>\n",
       "      <td>3.936890e+01</td>\n",
       "      <td>-8.744069e+01</td>\n",
       "      <td>0.000000e+00</td>\n",
       "      <td>1.600000e+01</td>\n",
       "      <td>7.000000e+00</td>\n",
       "      <td>2.020000e+03</td>\n",
       "      <td>1.400000e+01</td>\n",
       "      <td>3.000000e+01</td>\n",
       "      <td>1.975000e+03</td>\n",
       "      <td>4.400000e+01</td>\n",
       "    </tr>\n",
       "    <tr>\n",
       "      <th>75%</th>\n",
       "      <td>8.310000e+01</td>\n",
       "      <td>7.204200e+04</td>\n",
       "      <td>4.194040e+01</td>\n",
       "      <td>-8.015800e+01</td>\n",
       "      <td>2.032800e+04</td>\n",
       "      <td>1987-04-23 00:00:00</td>\n",
       "      <td>4.195626e+01</td>\n",
       "      <td>-8.024511e+01</td>\n",
       "      <td>0.000000e+00</td>\n",
       "      <td>2.400000e+01</td>\n",
       "      <td>1.000000e+01</td>\n",
       "      <td>2.020000e+03</td>\n",
       "      <td>1.900000e+01</td>\n",
       "      <td>4.500000e+01</td>\n",
       "      <td>1.987000e+03</td>\n",
       "      <td>5.700000e+01</td>\n",
       "    </tr>\n",
       "    <tr>\n",
       "      <th>max</th>\n",
       "      <td>2.894890e+04</td>\n",
       "      <td>9.992100e+04</td>\n",
       "      <td>6.669330e+01</td>\n",
       "      <td>-6.795030e+01</td>\n",
       "      <td>2.906700e+06</td>\n",
       "      <td>2005-01-29 00:00:00</td>\n",
       "      <td>6.751027e+01</td>\n",
       "      <td>-6.695090e+01</td>\n",
       "      <td>1.000000e+00</td>\n",
       "      <td>3.100000e+01</td>\n",
       "      <td>1.200000e+01</td>\n",
       "      <td>2.020000e+03</td>\n",
       "      <td>2.300000e+01</td>\n",
       "      <td>5.900000e+01</td>\n",
       "      <td>2.005000e+03</td>\n",
       "      <td>9.600000e+01</td>\n",
       "    </tr>\n",
       "    <tr>\n",
       "      <th>std</th>\n",
       "      <td>1.592540e+02</td>\n",
       "      <td>2.688185e+04</td>\n",
       "      <td>5.071470e+00</td>\n",
       "      <td>1.374789e+01</td>\n",
       "      <td>3.014876e+05</td>\n",
       "      <td>NaN</td>\n",
       "      <td>5.105604e+00</td>\n",
       "      <td>1.375969e+01</td>\n",
       "      <td>7.199217e-02</td>\n",
       "      <td>8.876245e+00</td>\n",
       "      <td>3.424954e+00</td>\n",
       "      <td>4.999996e-01</td>\n",
       "      <td>6.815753e+00</td>\n",
       "      <td>1.732627e+01</td>\n",
       "      <td>1.739057e+01</td>\n",
       "      <td>1.739545e+01</td>\n",
       "    </tr>\n",
       "  </tbody>\n",
       "</table>\n",
       "</div>"
      ],
      "text/plain": [
       "                amt           zip           lat          long      city_pop  \\\n",
       "count  1.852394e+06  1.852394e+06  1.852394e+06  1.852394e+06  1.852394e+06   \n",
       "mean   7.006357e+01  4.881326e+04  3.853931e+01 -9.022783e+01  8.864367e+04   \n",
       "min    1.000000e+00  1.257000e+03  2.002710e+01 -1.656723e+02  2.300000e+01   \n",
       "25%    9.640000e+00  2.623700e+04  3.466890e+01 -9.679800e+01  7.410000e+02   \n",
       "50%    4.745000e+01  4.817400e+04  3.935430e+01 -8.747690e+01  2.443000e+03   \n",
       "75%    8.310000e+01  7.204200e+04  4.194040e+01 -8.015800e+01  2.032800e+04   \n",
       "max    2.894890e+04  9.992100e+04  6.669330e+01 -6.795030e+01  2.906700e+06   \n",
       "std    1.592540e+02  2.688185e+04  5.071470e+00  1.374789e+01  3.014876e+05   \n",
       "\n",
       "                                 dob     merch_lat    merch_long  \\\n",
       "count                        1852394  1.852394e+06  1.852394e+06   \n",
       "mean   1973-10-15 11:05:05.744458240  3.853898e+01 -9.022794e+01   \n",
       "min              1924-10-30 00:00:00  1.902742e+01 -1.666716e+02   \n",
       "25%              1962-08-13 00:00:00  3.474012e+01 -9.689944e+01   \n",
       "50%              1975-11-30 00:00:00  3.936890e+01 -8.744069e+01   \n",
       "75%              1987-04-23 00:00:00  4.195626e+01 -8.024511e+01   \n",
       "max              2005-01-29 00:00:00  6.751027e+01 -6.695090e+01   \n",
       "std                              NaN  5.105604e+00  1.375969e+01   \n",
       "\n",
       "           is_fraud           day         month          year          hour  \\\n",
       "count  1.852394e+06  1.852394e+06  1.852394e+06  1.852394e+06  1.852394e+06   \n",
       "mean   5.210015e-03  1.585076e+01  7.152067e+00  2.019501e+03  1.280612e+01   \n",
       "min    0.000000e+00  1.000000e+00  1.000000e+00  2.019000e+03  0.000000e+00   \n",
       "25%    0.000000e+00  8.000000e+00  4.000000e+00  2.019000e+03  7.000000e+00   \n",
       "50%    0.000000e+00  1.600000e+01  7.000000e+00  2.020000e+03  1.400000e+01   \n",
       "75%    0.000000e+00  2.400000e+01  1.000000e+01  2.020000e+03  1.900000e+01   \n",
       "max    1.000000e+00  3.100000e+01  1.200000e+01  2.020000e+03  2.300000e+01   \n",
       "std    7.199217e-02  8.876245e+00  3.424954e+00  4.999996e-01  6.815753e+00   \n",
       "\n",
       "             minute      year_dob           age  \n",
       "count  1.852394e+06  1.852394e+06  1.852394e+06  \n",
       "mean   2.949731e+01  1.973289e+03  4.621138e+01  \n",
       "min    0.000000e+00  1.924000e+03  1.400000e+01  \n",
       "25%    1.400000e+01  1.962000e+03  3.300000e+01  \n",
       "50%    3.000000e+01  1.975000e+03  4.400000e+01  \n",
       "75%    4.500000e+01  1.987000e+03  5.700000e+01  \n",
       "max    5.900000e+01  2.005000e+03  9.600000e+01  \n",
       "std    1.732627e+01  1.739057e+01  1.739545e+01  "
      ]
     },
     "execution_count": 12,
     "metadata": {},
     "output_type": "execute_result"
    }
   ],
   "source": [
    "# statistical insights for numeric-datatypes features\n",
    "full_data.describe()"
   ]
  },
  {
   "cell_type": "code",
   "execution_count": 13,
   "id": "cb789b2b",
   "metadata": {
    "execution": {
     "iopub.execute_input": "2025-09-03T09:46:11.501977Z",
     "iopub.status.busy": "2025-09-03T09:46:11.501576Z",
     "iopub.status.idle": "2025-09-03T09:46:12.743014Z",
     "shell.execute_reply": "2025-09-03T09:46:12.741905Z"
    },
    "papermill": {
     "duration": 1.255234,
     "end_time": "2025-09-03T09:46:12.744861",
     "exception": false,
     "start_time": "2025-09-03T09:46:11.489627",
     "status": "completed"
    },
    "tags": []
   },
   "outputs": [
    {
     "data": {
      "text/html": [
       "<div>\n",
       "<style scoped>\n",
       "    .dataframe tbody tr th:only-of-type {\n",
       "        vertical-align: middle;\n",
       "    }\n",
       "\n",
       "    .dataframe tbody tr th {\n",
       "        vertical-align: top;\n",
       "    }\n",
       "\n",
       "    .dataframe thead th {\n",
       "        text-align: right;\n",
       "    }\n",
       "</style>\n",
       "<table border=\"1\" class=\"dataframe\">\n",
       "  <thead>\n",
       "    <tr style=\"text-align: right;\">\n",
       "      <th></th>\n",
       "      <th>merchant</th>\n",
       "      <th>category</th>\n",
       "      <th>gender</th>\n",
       "      <th>state</th>\n",
       "      <th>job</th>\n",
       "    </tr>\n",
       "  </thead>\n",
       "  <tbody>\n",
       "    <tr>\n",
       "      <th>count</th>\n",
       "      <td>1852394</td>\n",
       "      <td>1852394</td>\n",
       "      <td>1852394</td>\n",
       "      <td>1852394</td>\n",
       "      <td>1852394</td>\n",
       "    </tr>\n",
       "    <tr>\n",
       "      <th>unique</th>\n",
       "      <td>693</td>\n",
       "      <td>14</td>\n",
       "      <td>2</td>\n",
       "      <td>51</td>\n",
       "      <td>497</td>\n",
       "    </tr>\n",
       "    <tr>\n",
       "      <th>top</th>\n",
       "      <td>fraud_Kilback LLC</td>\n",
       "      <td>gas_transport</td>\n",
       "      <td>F</td>\n",
       "      <td>TX</td>\n",
       "      <td>Film/video editor</td>\n",
       "    </tr>\n",
       "    <tr>\n",
       "      <th>freq</th>\n",
       "      <td>6262</td>\n",
       "      <td>188029</td>\n",
       "      <td>1014749</td>\n",
       "      <td>135269</td>\n",
       "      <td>13898</td>\n",
       "    </tr>\n",
       "  </tbody>\n",
       "</table>\n",
       "</div>"
      ],
      "text/plain": [
       "                 merchant       category   gender    state                job\n",
       "count             1852394        1852394  1852394  1852394            1852394\n",
       "unique                693             14        2       51                497\n",
       "top     fraud_Kilback LLC  gas_transport        F       TX  Film/video editor\n",
       "freq                 6262         188029  1014749   135269              13898"
      ]
     },
     "execution_count": 13,
     "metadata": {},
     "output_type": "execute_result"
    }
   ],
   "source": [
    "# statistical insights for non-numeric-datatypes features\n",
    "\n",
    "full_data.describe(include='object')"
   ]
  },
  {
   "cell_type": "code",
   "execution_count": 14,
   "id": "43072bd2",
   "metadata": {
    "execution": {
     "iopub.execute_input": "2025-09-03T09:46:12.831521Z",
     "iopub.status.busy": "2025-09-03T09:46:12.831194Z",
     "iopub.status.idle": "2025-09-03T09:46:12.853201Z",
     "shell.execute_reply": "2025-09-03T09:46:12.851869Z"
    },
    "papermill": {
     "duration": 0.036109,
     "end_time": "2025-09-03T09:46:12.854952",
     "exception": false,
     "start_time": "2025-09-03T09:46:12.818843",
     "status": "completed"
    },
    "tags": []
   },
   "outputs": [
    {
     "data": {
      "text/plain": [
       "is_fraud\n",
       "0    1842743\n",
       "1       9651\n",
       "Name: count, dtype: int64"
      ]
     },
     "execution_count": 14,
     "metadata": {},
     "output_type": "execute_result"
    }
   ],
   "source": [
    "full_data[\"is_fraud\"].value_counts()"
   ]
  },
  {
   "cell_type": "markdown",
   "id": "9cceee88",
   "metadata": {
    "papermill": {
     "duration": 0.010851,
     "end_time": "2025-09-03T09:46:12.877279",
     "exception": false,
     "start_time": "2025-09-03T09:46:12.866428",
     "status": "completed"
    },
    "tags": []
   },
   "source": [
    "## Fraud Rate by Category, Gender"
   ]
  },
  {
   "cell_type": "code",
   "execution_count": 15,
   "id": "ef46a3d1",
   "metadata": {
    "execution": {
     "iopub.execute_input": "2025-09-03T09:46:12.901136Z",
     "iopub.status.busy": "2025-09-03T09:46:12.900595Z",
     "iopub.status.idle": "2025-09-03T09:46:14.032451Z",
     "shell.execute_reply": "2025-09-03T09:46:14.031330Z"
    },
    "papermill": {
     "duration": 1.146245,
     "end_time": "2025-09-03T09:46:14.034638",
     "exception": false,
     "start_time": "2025-09-03T09:46:12.888393",
     "status": "completed"
    },
    "tags": []
   },
   "outputs": [
    {
     "data": {
      "image/png": "[encoded data removed]",
      "text/plain": [
       "<Figure size 1600x800 with 2 Axes>"
      ]
     },
     "metadata": {},
     "output_type": "display_data"
    }
   ],
   "source": [
    "data = full_data\n",
    "\n",
    "# List of categorical columns to compare\n",
    "categorical_cols = ['category', 'gender']\n",
    "\n",
    "# Set plot style\n",
    "sns.set(style=\"whitegrid\")\n",
    "plt.figure(figsize=(16, 4 * len(categorical_cols)))\n",
    "\n",
    "for i, col in enumerate(categorical_cols, 1):\n",
    "    plt.subplot(len(categorical_cols), 1, i)\n",
    "    temp = data.groupby(col)['is_fraud'].mean().sort_values(ascending=False)\n",
    "    sns.barplot(x=temp.index, y=temp.values, palette=\"viridis\")\n",
    "    plt.ylabel('Fraud Rate (%)')\n",
    "    plt.title(f'Fraud Rate by {col}')\n",
    "    plt.xticks(rotation=45, ha='right')\n",
    "    plt.tight_layout()\n",
    "\n",
    "plt.suptitle(\"Fraud Rate by Categorical Features\", fontsize=18, y=1.02)\n",
    "plt.show()"
   ]
  },
  {
   "cell_type": "code",
   "execution_count": 16,
   "id": "5599fe6b",
   "metadata": {
    "execution": {
     "iopub.execute_input": "2025-09-03T09:46:14.064942Z",
     "iopub.status.busy": "2025-09-03T09:46:14.064578Z",
     "iopub.status.idle": "2025-09-03T09:46:14.169158Z",
     "shell.execute_reply": "2025-09-03T09:46:14.168217Z"
    },
    "papermill": {
     "duration": 0.121751,
     "end_time": "2025-09-03T09:46:14.171041",
     "exception": false,
     "start_time": "2025-09-03T09:46:14.049290",
     "status": "completed"
    },
    "tags": []
   },
   "outputs": [],
   "source": [
    "X = data.drop(columns=[\n",
    "    'state', 'zip',\n",
    "    'dob', 'year_dob', 'is_fraud'  \n",
    "])\n",
    "\n",
    "y = data['is_fraud']"
   ]
  },
  {
   "cell_type": "code",
   "execution_count": 17,
   "id": "786e6eba",
   "metadata": {
    "execution": {
     "iopub.execute_input": "2025-09-03T09:46:14.201677Z",
     "iopub.status.busy": "2025-09-03T09:46:14.200681Z",
     "iopub.status.idle": "2025-09-03T09:46:14.222677Z",
     "shell.execute_reply": "2025-09-03T09:46:14.221163Z"
    },
    "papermill": {
     "duration": 0.038899,
     "end_time": "2025-09-03T09:46:14.224844",
     "exception": false,
     "start_time": "2025-09-03T09:46:14.185945",
     "status": "completed"
    },
    "tags": []
   },
   "outputs": [
    {
     "data": {
      "text/html": [
       "<div>\n",
       "<style scoped>\n",
       "    .dataframe tbody tr th:only-of-type {\n",
       "        vertical-align: middle;\n",
       "    }\n",
       "\n",
       "    .dataframe tbody tr th {\n",
       "        vertical-align: top;\n",
       "    }\n",
       "\n",
       "    .dataframe thead th {\n",
       "        text-align: right;\n",
       "    }\n",
       "</style>\n",
       "<table border=\"1\" class=\"dataframe\">\n",
       "  <thead>\n",
       "    <tr style=\"text-align: right;\">\n",
       "      <th></th>\n",
       "      <th>merchant</th>\n",
       "      <th>category</th>\n",
       "      <th>amt</th>\n",
       "      <th>gender</th>\n",
       "      <th>lat</th>\n",
       "      <th>long</th>\n",
       "      <th>city_pop</th>\n",
       "      <th>job</th>\n",
       "      <th>merch_lat</th>\n",
       "      <th>merch_long</th>\n",
       "      <th>day</th>\n",
       "      <th>month</th>\n",
       "      <th>year</th>\n",
       "      <th>hour</th>\n",
       "      <th>minute</th>\n",
       "      <th>age</th>\n",
       "    </tr>\n",
       "  </thead>\n",
       "  <tbody>\n",
       "    <tr>\n",
       "      <th>0</th>\n",
       "      <td>fraud_Rippin, Kub and Mann</td>\n",
       "      <td>misc_net</td>\n",
       "      <td>4.97</td>\n",
       "      <td>F</td>\n",
       "      <td>36.0788</td>\n",
       "      <td>-81.1781</td>\n",
       "      <td>3495</td>\n",
       "      <td>Psychologist, counselling</td>\n",
       "      <td>36.011293</td>\n",
       "      <td>-82.048315</td>\n",
       "      <td>1</td>\n",
       "      <td>1</td>\n",
       "      <td>2019</td>\n",
       "      <td>0</td>\n",
       "      <td>0</td>\n",
       "      <td>31</td>\n",
       "    </tr>\n",
       "    <tr>\n",
       "      <th>1</th>\n",
       "      <td>fraud_Heller, Gutmann and Zieme</td>\n",
       "      <td>grocery_pos</td>\n",
       "      <td>107.23</td>\n",
       "      <td>F</td>\n",
       "      <td>48.8878</td>\n",
       "      <td>-118.2105</td>\n",
       "      <td>149</td>\n",
       "      <td>Special educational needs teacher</td>\n",
       "      <td>49.159047</td>\n",
       "      <td>-118.186462</td>\n",
       "      <td>1</td>\n",
       "      <td>1</td>\n",
       "      <td>2019</td>\n",
       "      <td>0</td>\n",
       "      <td>0</td>\n",
       "      <td>41</td>\n",
       "    </tr>\n",
       "    <tr>\n",
       "      <th>2</th>\n",
       "      <td>fraud_Lind-Buckridge</td>\n",
       "      <td>entertainment</td>\n",
       "      <td>220.11</td>\n",
       "      <td>M</td>\n",
       "      <td>42.1808</td>\n",
       "      <td>-112.2620</td>\n",
       "      <td>4154</td>\n",
       "      <td>Nature conservation officer</td>\n",
       "      <td>43.150704</td>\n",
       "      <td>-112.154481</td>\n",
       "      <td>1</td>\n",
       "      <td>1</td>\n",
       "      <td>2019</td>\n",
       "      <td>0</td>\n",
       "      <td>0</td>\n",
       "      <td>57</td>\n",
       "    </tr>\n",
       "    <tr>\n",
       "      <th>3</th>\n",
       "      <td>fraud_Kutch, Hermiston and Farrell</td>\n",
       "      <td>gas_transport</td>\n",
       "      <td>45.00</td>\n",
       "      <td>M</td>\n",
       "      <td>46.2306</td>\n",
       "      <td>-112.1138</td>\n",
       "      <td>1939</td>\n",
       "      <td>Patent attorney</td>\n",
       "      <td>47.034331</td>\n",
       "      <td>-112.561071</td>\n",
       "      <td>1</td>\n",
       "      <td>1</td>\n",
       "      <td>2019</td>\n",
       "      <td>0</td>\n",
       "      <td>1</td>\n",
       "      <td>52</td>\n",
       "    </tr>\n",
       "    <tr>\n",
       "      <th>4</th>\n",
       "      <td>fraud_Keeling-Crist</td>\n",
       "      <td>misc_pos</td>\n",
       "      <td>41.96</td>\n",
       "      <td>M</td>\n",
       "      <td>38.4207</td>\n",
       "      <td>-79.4629</td>\n",
       "      <td>99</td>\n",
       "      <td>Dance movement psychotherapist</td>\n",
       "      <td>38.674999</td>\n",
       "      <td>-78.632459</td>\n",
       "      <td>1</td>\n",
       "      <td>1</td>\n",
       "      <td>2019</td>\n",
       "      <td>0</td>\n",
       "      <td>3</td>\n",
       "      <td>33</td>\n",
       "    </tr>\n",
       "    <tr>\n",
       "      <th>...</th>\n",
       "      <td>...</td>\n",
       "      <td>...</td>\n",
       "      <td>...</td>\n",
       "      <td>...</td>\n",
       "      <td>...</td>\n",
       "      <td>...</td>\n",
       "      <td>...</td>\n",
       "      <td>...</td>\n",
       "      <td>...</td>\n",
       "      <td>...</td>\n",
       "      <td>...</td>\n",
       "      <td>...</td>\n",
       "      <td>...</td>\n",
       "      <td>...</td>\n",
       "      <td>...</td>\n",
       "      <td>...</td>\n",
       "    </tr>\n",
       "    <tr>\n",
       "      <th>555714</th>\n",
       "      <td>fraud_Reilly and Sons</td>\n",
       "      <td>health_fitness</td>\n",
       "      <td>43.77</td>\n",
       "      <td>M</td>\n",
       "      <td>40.4931</td>\n",
       "      <td>-91.8912</td>\n",
       "      <td>519</td>\n",
       "      <td>Town planner</td>\n",
       "      <td>39.946837</td>\n",
       "      <td>-91.333331</td>\n",
       "      <td>31</td>\n",
       "      <td>12</td>\n",
       "      <td>2020</td>\n",
       "      <td>23</td>\n",
       "      <td>59</td>\n",
       "      <td>54</td>\n",
       "    </tr>\n",
       "    <tr>\n",
       "      <th>555715</th>\n",
       "      <td>fraud_Hoppe-Parisian</td>\n",
       "      <td>kids_pets</td>\n",
       "      <td>111.84</td>\n",
       "      <td>M</td>\n",
       "      <td>29.0393</td>\n",
       "      <td>-95.4401</td>\n",
       "      <td>28739</td>\n",
       "      <td>Futures trader</td>\n",
       "      <td>29.661049</td>\n",
       "      <td>-96.186633</td>\n",
       "      <td>31</td>\n",
       "      <td>12</td>\n",
       "      <td>2020</td>\n",
       "      <td>23</td>\n",
       "      <td>59</td>\n",
       "      <td>21</td>\n",
       "    </tr>\n",
       "    <tr>\n",
       "      <th>555716</th>\n",
       "      <td>fraud_Rau-Robel</td>\n",
       "      <td>kids_pets</td>\n",
       "      <td>86.88</td>\n",
       "      <td>F</td>\n",
       "      <td>46.1966</td>\n",
       "      <td>-118.9017</td>\n",
       "      <td>3684</td>\n",
       "      <td>Musician</td>\n",
       "      <td>46.658340</td>\n",
       "      <td>-119.715054</td>\n",
       "      <td>31</td>\n",
       "      <td>12</td>\n",
       "      <td>2020</td>\n",
       "      <td>23</td>\n",
       "      <td>59</td>\n",
       "      <td>39</td>\n",
       "    </tr>\n",
       "    <tr>\n",
       "      <th>555717</th>\n",
       "      <td>fraud_Breitenberg LLC</td>\n",
       "      <td>travel</td>\n",
       "      <td>7.99</td>\n",
       "      <td>M</td>\n",
       "      <td>44.6255</td>\n",
       "      <td>-116.4493</td>\n",
       "      <td>129</td>\n",
       "      <td>Cartographer</td>\n",
       "      <td>44.470525</td>\n",
       "      <td>-117.080888</td>\n",
       "      <td>31</td>\n",
       "      <td>12</td>\n",
       "      <td>2020</td>\n",
       "      <td>23</td>\n",
       "      <td>59</td>\n",
       "      <td>55</td>\n",
       "    </tr>\n",
       "    <tr>\n",
       "      <th>555718</th>\n",
       "      <td>fraud_Dare-Marvin</td>\n",
       "      <td>entertainment</td>\n",
       "      <td>38.13</td>\n",
       "      <td>M</td>\n",
       "      <td>35.6665</td>\n",
       "      <td>-97.4798</td>\n",
       "      <td>116001</td>\n",
       "      <td>Media buyer</td>\n",
       "      <td>36.210097</td>\n",
       "      <td>-97.036372</td>\n",
       "      <td>31</td>\n",
       "      <td>12</td>\n",
       "      <td>2020</td>\n",
       "      <td>23</td>\n",
       "      <td>59</td>\n",
       "      <td>27</td>\n",
       "    </tr>\n",
       "  </tbody>\n",
       "</table>\n",
       "<p>1852394 rows × 16 columns</p>\n",
       "</div>"
      ],
      "text/plain": [
       "                                  merchant        category     amt gender  \\\n",
       "0               fraud_Rippin, Kub and Mann        misc_net    4.97      F   \n",
       "1          fraud_Heller, Gutmann and Zieme     grocery_pos  107.23      F   \n",
       "2                     fraud_Lind-Buckridge   entertainment  220.11      M   \n",
       "3       fraud_Kutch, Hermiston and Farrell   gas_transport   45.00      M   \n",
       "4                      fraud_Keeling-Crist        misc_pos   41.96      M   \n",
       "...                                    ...             ...     ...    ...   \n",
       "555714               fraud_Reilly and Sons  health_fitness   43.77      M   \n",
       "555715                fraud_Hoppe-Parisian       kids_pets  111.84      M   \n",
       "555716                     fraud_Rau-Robel       kids_pets   86.88      F   \n",
       "555717               fraud_Breitenberg LLC          travel    7.99      M   \n",
       "555718                   fraud_Dare-Marvin   entertainment   38.13      M   \n",
       "\n",
       "            lat      long  city_pop                                job  \\\n",
       "0       36.0788  -81.1781      3495          Psychologist, counselling   \n",
       "1       48.8878 -118.2105       149  Special educational needs teacher   \n",
       "2       42.1808 -112.2620      4154        Nature conservation officer   \n",
       "3       46.2306 -112.1138      1939                    Patent attorney   \n",
       "4       38.4207  -79.4629        99     Dance movement psychotherapist   \n",
       "...         ...       ...       ...                                ...   \n",
       "555714  40.4931  -91.8912       519                       Town planner   \n",
       "555715  29.0393  -95.4401     28739                     Futures trader   \n",
       "555716  46.1966 -118.9017      3684                           Musician   \n",
       "555717  44.6255 -116.4493       129                       Cartographer   \n",
       "555718  35.6665  -97.4798    116001                        Media buyer   \n",
       "\n",
       "        merch_lat  merch_long  day  month  year  hour  minute  age  \n",
       "0       36.011293  -82.048315    1      1  2019     0       0   31  \n",
       "1       49.159047 -118.186462    1      1  2019     0       0   41  \n",
       "2       43.150704 -112.154481    1      1  2019     0       0   57  \n",
       "3       47.034331 -112.561071    1      1  2019     0       1   52  \n",
       "4       38.674999  -78.632459    1      1  2019     0       3   33  \n",
       "...           ...         ...  ...    ...   ...   ...     ...  ...  \n",
       "555714  39.946837  -91.333331   31     12  2020    23      59   54  \n",
       "555715  29.661049  -96.186633   31     12  2020    23      59   21  \n",
       "555716  46.658340 -119.715054   31     12  2020    23      59   39  \n",
       "555717  44.470525 -117.080888   31     12  2020    23      59   55  \n",
       "555718  36.210097  -97.036372   31     12  2020    23      59   27  \n",
       "\n",
       "[1852394 rows x 16 columns]"
      ]
     },
     "execution_count": 17,
     "metadata": {},
     "output_type": "execute_result"
    }
   ],
   "source": [
    "X"
   ]
  },
  {
   "cell_type": "code",
   "execution_count": 18,
   "id": "378fb778",
   "metadata": {
    "execution": {
     "iopub.execute_input": "2025-09-03T09:46:14.253606Z",
     "iopub.status.busy": "2025-09-03T09:46:14.253264Z",
     "iopub.status.idle": "2025-09-03T09:46:14.260876Z",
     "shell.execute_reply": "2025-09-03T09:46:14.260042Z"
    },
    "papermill": {
     "duration": 0.023755,
     "end_time": "2025-09-03T09:46:14.262457",
     "exception": false,
     "start_time": "2025-09-03T09:46:14.238702",
     "status": "completed"
    },
    "tags": []
   },
   "outputs": [
    {
     "data": {
      "text/plain": [
       "0         0\n",
       "1         0\n",
       "2         0\n",
       "3         0\n",
       "4         0\n",
       "         ..\n",
       "555714    0\n",
       "555715    0\n",
       "555716    0\n",
       "555717    0\n",
       "555718    0\n",
       "Name: is_fraud, Length: 1852394, dtype: int64"
      ]
     },
     "execution_count": 18,
     "metadata": {},
     "output_type": "execute_result"
    }
   ],
   "source": [
    "y"
   ]
  },
  {
   "cell_type": "code",
   "execution_count": 19,
   "id": "c78cfd6e",
   "metadata": {
    "execution": {
     "iopub.execute_input": "2025-09-03T09:46:14.293028Z",
     "iopub.status.busy": "2025-09-03T09:46:14.291715Z",
     "iopub.status.idle": "2025-09-03T09:46:31.481901Z",
     "shell.execute_reply": "2025-09-03T09:46:31.480719Z"
    },
    "papermill": {
     "duration": 17.206981,
     "end_time": "2025-09-03T09:46:31.483693",
     "exception": false,
     "start_time": "2025-09-03T09:46:14.276712",
     "status": "completed"
    },
    "tags": []
   },
   "outputs": [],
   "source": [
    "X.to_csv('/kaggle/working/X.csv', index=False)\n",
    "y.to_csv('/kaggle/working/y.csv', index=False)"
   ]
  },
  {
   "cell_type": "markdown",
   "id": "50694cbc",
   "metadata": {
    "papermill": {
     "duration": 0.013368,
     "end_time": "2025-09-03T09:46:31.510911",
     "exception": false,
     "start_time": "2025-09-03T09:46:31.497543",
     "status": "completed"
    },
    "tags": []
   },
   "source": [
    "# Data Preprocessing for Model Training"
   ]
  },
  {
   "cell_type": "markdown",
   "id": "034f4d01",
   "metadata": {
    "papermill": {
     "duration": 0.013883,
     "end_time": "2025-09-03T09:46:31.538360",
     "exception": false,
     "start_time": "2025-09-03T09:46:31.524477",
     "status": "completed"
    },
    "tags": []
   },
   "source": [
    "## ****Categorical Encoding and Z-Score Normalization****"
   ]
  },
  {
   "cell_type": "code",
   "execution_count": 20,
   "id": "f1758a0a",
   "metadata": {
    "execution": {
     "iopub.execute_input": "2025-09-03T09:46:31.567014Z",
     "iopub.status.busy": "2025-09-03T09:46:31.566657Z",
     "iopub.status.idle": "2025-09-03T09:46:35.507044Z",
     "shell.execute_reply": "2025-09-03T09:46:35.505850Z"
    },
    "papermill": {
     "duration": 3.95687,
     "end_time": "2025-09-03T09:46:35.508907",
     "exception": false,
     "start_time": "2025-09-03T09:46:31.552037",
     "status": "completed"
    },
    "tags": []
   },
   "outputs": [],
   "source": [
    "X = pd.read_csv('/kaggle/working/X.csv')\n",
    "y = pd.read_csv('/kaggle/working/y.csv')"
   ]
  },
  {
   "cell_type": "code",
   "execution_count": 21,
   "id": "5184448e",
   "metadata": {
    "execution": {
     "iopub.execute_input": "2025-09-03T09:46:35.538769Z",
     "iopub.status.busy": "2025-09-03T09:46:35.538440Z",
     "iopub.status.idle": "2025-09-03T09:46:37.260139Z",
     "shell.execute_reply": "2025-09-03T09:46:37.259135Z"
    },
    "papermill": {
     "duration": 1.739122,
     "end_time": "2025-09-03T09:46:37.261903",
     "exception": false,
     "start_time": "2025-09-03T09:46:35.522781",
     "status": "completed"
    },
    "tags": []
   },
   "outputs": [],
   "source": [
    "from sklearn.preprocessing import LabelEncoder\n",
    "\n",
    "# Columns to encode\n",
    "cat_cols = ['gender', 'merchant', 'category', 'job']\n",
    "\n",
    "# Initialize encoder\n",
    "le = LabelEncoder()\n",
    "\n",
    "# Encode each column\n",
    "for col in cat_cols:\n",
    "    X[col] = le.fit_transform(X[col])"
   ]
  },
  {
   "cell_type": "code",
   "execution_count": 22,
   "id": "c7e97314",
   "metadata": {
    "execution": {
     "iopub.execute_input": "2025-09-03T09:46:37.290726Z",
     "iopub.status.busy": "2025-09-03T09:46:37.290432Z",
     "iopub.status.idle": "2025-09-03T09:46:37.884690Z",
     "shell.execute_reply": "2025-09-03T09:46:37.883359Z"
    },
    "papermill": {
     "duration": 0.610558,
     "end_time": "2025-09-03T09:46:37.886683",
     "exception": false,
     "start_time": "2025-09-03T09:46:37.276125",
     "status": "completed"
    },
    "tags": []
   },
   "outputs": [],
   "source": [
    "from sklearn.model_selection import train_test_split\n",
    "\n",
    "X_train, X_test, y_train, y_test = train_test_split(X, y, test_size=0.15, random_state=42)"
   ]
  },
  {
   "cell_type": "code",
   "execution_count": 23,
   "id": "dce0cfa5",
   "metadata": {
    "execution": {
     "iopub.execute_input": "2025-09-03T09:46:37.916615Z",
     "iopub.status.busy": "2025-09-03T09:46:37.916277Z",
     "iopub.status.idle": "2025-09-03T09:46:37.962274Z",
     "shell.execute_reply": "2025-09-03T09:46:37.961111Z"
    },
    "papermill": {
     "duration": 0.062786,
     "end_time": "2025-09-03T09:46:37.963953",
     "exception": false,
     "start_time": "2025-09-03T09:46:37.901167",
     "status": "completed"
    },
    "tags": []
   },
   "outputs": [
    {
     "name": "stdout",
     "output_type": "stream",
     "text": [
      "X_train shape:  (1574534, 16)\n",
      "y_train shape:  (1574534, 1)\n",
      "\n",
      "Training dataset fraud samples:  is_fraud\n",
      "0           1566360\n",
      "1              8174\n",
      "Name: count, dtype: int64\n",
      "\n",
      "\n",
      "X_test shape:  (277860, 16)\n",
      "y-test shape:  (277860, 1)\n",
      "\n",
      "Testing dataset fraud samples:  is_fraud\n",
      "0           276383\n",
      "1             1477\n",
      "Name: count, dtype: int64\n"
     ]
    }
   ],
   "source": [
    "print(f\"X_train shape: \", X_train.shape)\n",
    "print(f\"y_train shape: \", y_train.shape)\n",
    "print()\n",
    "print(f\"Training dataset fraud samples: \", y_train.value_counts())\n",
    "print()\n",
    "print()\n",
    "print(f\"X_test shape: \", X_test.shape)\n",
    "print(f\"y-test shape: \", y_test.shape)\n",
    "print()\n",
    "print(f\"Testing dataset fraud samples: \", y_test.value_counts())"
   ]
  },
  {
   "cell_type": "code",
   "execution_count": 24,
   "id": "1b886f28",
   "metadata": {
    "execution": {
     "iopub.execute_input": "2025-09-03T09:46:37.993753Z",
     "iopub.status.busy": "2025-09-03T09:46:37.993413Z",
     "iopub.status.idle": "2025-09-03T09:46:38.801391Z",
     "shell.execute_reply": "2025-09-03T09:46:38.800116Z"
    },
    "papermill": {
     "duration": 0.82492,
     "end_time": "2025-09-03T09:46:38.803367",
     "exception": false,
     "start_time": "2025-09-03T09:46:37.978447",
     "status": "completed"
    },
    "tags": []
   },
   "outputs": [],
   "source": [
    "from sklearn.preprocessing import StandardScaler\n",
    "\n",
    "# Select only numeric columns to scale\n",
    "cols_to_scale = ['amt', 'lat', 'long', 'city_pop', 'merch_lat', 'merch_long', 'day', 'month', 'year', 'hour', 'minute', 'age']\n",
    "\n",
    "# Initialize scaler\n",
    "scaler = StandardScaler()\n",
    "\n",
    "# Fit the scaler on X_train only and transform\n",
    "X_train_scaled = X_train.copy()\n",
    "X_train_scaled[cols_to_scale] = scaler.fit_transform(X_train[cols_to_scale])\n",
    "\n",
    "# Use the same scaler to transform X_test\n",
    "X_test_scaled = X_test.copy()\n",
    "X_test_scaled[cols_to_scale] = scaler.transform(X_test[cols_to_scale])\n"
   ]
  },
  {
   "cell_type": "code",
   "execution_count": 25,
   "id": "4ca0f5a0",
   "metadata": {
    "execution": {
     "iopub.execute_input": "2025-09-03T09:46:38.832526Z",
     "iopub.status.busy": "2025-09-03T09:46:38.832224Z",
     "iopub.status.idle": "2025-09-03T09:46:38.851632Z",
     "shell.execute_reply": "2025-09-03T09:46:38.850627Z"
    },
    "papermill": {
     "duration": 0.036142,
     "end_time": "2025-09-03T09:46:38.853452",
     "exception": false,
     "start_time": "2025-09-03T09:46:38.817310",
     "status": "completed"
    },
    "tags": []
   },
   "outputs": [
    {
     "data": {
      "text/html": [
       "<div>\n",
       "<style scoped>\n",
       "    .dataframe tbody tr th:only-of-type {\n",
       "        vertical-align: middle;\n",
       "    }\n",
       "\n",
       "    .dataframe tbody tr th {\n",
       "        vertical-align: top;\n",
       "    }\n",
       "\n",
       "    .dataframe thead th {\n",
       "        text-align: right;\n",
       "    }\n",
       "</style>\n",
       "<table border=\"1\" class=\"dataframe\">\n",
       "  <thead>\n",
       "    <tr style=\"text-align: right;\">\n",
       "      <th></th>\n",
       "      <th>merchant</th>\n",
       "      <th>category</th>\n",
       "      <th>amt</th>\n",
       "      <th>gender</th>\n",
       "      <th>lat</th>\n",
       "      <th>long</th>\n",
       "      <th>city_pop</th>\n",
       "      <th>job</th>\n",
       "      <th>merch_lat</th>\n",
       "      <th>merch_long</th>\n",
       "      <th>day</th>\n",
       "      <th>month</th>\n",
       "      <th>year</th>\n",
       "      <th>hour</th>\n",
       "      <th>minute</th>\n",
       "      <th>age</th>\n",
       "    </tr>\n",
       "  </thead>\n",
       "  <tbody>\n",
       "    <tr>\n",
       "      <th>681478</th>\n",
       "      <td>480</td>\n",
       "      <td>12</td>\n",
       "      <td>-0.226950</td>\n",
       "      <td>0</td>\n",
       "      <td>0.937560</td>\n",
       "      <td>-0.507385</td>\n",
       "      <td>-0.291217</td>\n",
       "      <td>311</td>\n",
       "      <td>0.985912</td>\n",
       "      <td>-0.503384</td>\n",
       "      <td>0.129015</td>\n",
       "      <td>0.831697</td>\n",
       "      <td>-1.001276</td>\n",
       "      <td>1.495422</td>\n",
       "      <td>1.010185</td>\n",
       "      <td>0.045430</td>\n",
       "    </tr>\n",
       "    <tr>\n",
       "      <th>1173083</th>\n",
       "      <td>207</td>\n",
       "      <td>5</td>\n",
       "      <td>-0.380055</td>\n",
       "      <td>1</td>\n",
       "      <td>1.518089</td>\n",
       "      <td>-1.593624</td>\n",
       "      <td>-0.287472</td>\n",
       "      <td>330</td>\n",
       "      <td>1.553861</td>\n",
       "      <td>-1.612441</td>\n",
       "      <td>-1.335766</td>\n",
       "      <td>-0.628066</td>\n",
       "      <td>0.998726</td>\n",
       "      <td>0.761708</td>\n",
       "      <td>0.548287</td>\n",
       "      <td>0.390435</td>\n",
       "    </tr>\n",
       "    <tr>\n",
       "      <th>127158</th>\n",
       "      <td>549</td>\n",
       "      <td>2</td>\n",
       "      <td>-0.143545</td>\n",
       "      <td>0</td>\n",
       "      <td>0.557955</td>\n",
       "      <td>-0.566707</td>\n",
       "      <td>-0.288103</td>\n",
       "      <td>444</td>\n",
       "      <td>0.735084</td>\n",
       "      <td>-0.583767</td>\n",
       "      <td>-0.547038</td>\n",
       "      <td>-1.211972</td>\n",
       "      <td>-1.001276</td>\n",
       "      <td>-0.265491</td>\n",
       "      <td>0.259601</td>\n",
       "      <td>-0.012071</td>\n",
       "    </tr>\n",
       "    <tr>\n",
       "      <th>1593548</th>\n",
       "      <td>192</td>\n",
       "      <td>7</td>\n",
       "      <td>-0.028996</td>\n",
       "      <td>1</td>\n",
       "      <td>0.176554</td>\n",
       "      <td>0.204500</td>\n",
       "      <td>-0.293455</td>\n",
       "      <td>287</td>\n",
       "      <td>0.223163</td>\n",
       "      <td>0.160285</td>\n",
       "      <td>-0.547038</td>\n",
       "      <td>0.831697</td>\n",
       "      <td>0.998726</td>\n",
       "      <td>0.027994</td>\n",
       "      <td>-1.357043</td>\n",
       "      <td>0.390435</td>\n",
       "    </tr>\n",
       "    <tr>\n",
       "      <th>913411</th>\n",
       "      <td>470</td>\n",
       "      <td>0</td>\n",
       "      <td>-0.429887</td>\n",
       "      <td>1</td>\n",
       "      <td>0.468249</td>\n",
       "      <td>1.150456</td>\n",
       "      <td>-0.243219</td>\n",
       "      <td>374</td>\n",
       "      <td>0.653855</td>\n",
       "      <td>1.199632</td>\n",
       "      <td>1.481121</td>\n",
       "      <td>1.415603</td>\n",
       "      <td>-1.001276</td>\n",
       "      <td>0.468222</td>\n",
       "      <td>-0.490984</td>\n",
       "      <td>-1.162087</td>\n",
       "    </tr>\n",
       "    <tr>\n",
       "      <th>...</th>\n",
       "      <td>...</td>\n",
       "      <td>...</td>\n",
       "      <td>...</td>\n",
       "      <td>...</td>\n",
       "      <td>...</td>\n",
       "      <td>...</td>\n",
       "      <td>...</td>\n",
       "      <td>...</td>\n",
       "      <td>...</td>\n",
       "      <td>...</td>\n",
       "      <td>...</td>\n",
       "      <td>...</td>\n",
       "      <td>...</td>\n",
       "      <td>...</td>\n",
       "      <td>...</td>\n",
       "      <td>...</td>\n",
       "    </tr>\n",
       "    <tr>\n",
       "      <th>259178</th>\n",
       "      <td>191</td>\n",
       "      <td>9</td>\n",
       "      <td>-0.422100</td>\n",
       "      <td>0</td>\n",
       "      <td>0.578126</td>\n",
       "      <td>1.284305</td>\n",
       "      <td>-0.275856</td>\n",
       "      <td>271</td>\n",
       "      <td>0.425936</td>\n",
       "      <td>1.348991</td>\n",
       "      <td>-0.772389</td>\n",
       "      <td>-0.628066</td>\n",
       "      <td>-1.001276</td>\n",
       "      <td>-0.999205</td>\n",
       "      <td>1.414346</td>\n",
       "      <td>0.505436</td>\n",
       "    </tr>\n",
       "    <tr>\n",
       "      <th>1414414</th>\n",
       "      <td>292</td>\n",
       "      <td>13</td>\n",
       "      <td>-0.379806</td>\n",
       "      <td>0</td>\n",
       "      <td>-0.983380</td>\n",
       "      <td>-0.023689</td>\n",
       "      <td>-0.288312</td>\n",
       "      <td>144</td>\n",
       "      <td>-0.940517</td>\n",
       "      <td>0.025052</td>\n",
       "      <td>-1.673793</td>\n",
       "      <td>0.247792</td>\n",
       "      <td>0.998726</td>\n",
       "      <td>1.055194</td>\n",
       "      <td>-1.068356</td>\n",
       "      <td>-0.702080</td>\n",
       "    </tr>\n",
       "    <tr>\n",
       "      <th>131932</th>\n",
       "      <td>680</td>\n",
       "      <td>6</td>\n",
       "      <td>0.300076</td>\n",
       "      <td>0</td>\n",
       "      <td>-0.694507</td>\n",
       "      <td>-1.188670</td>\n",
       "      <td>-0.292880</td>\n",
       "      <td>442</td>\n",
       "      <td>-0.723445</td>\n",
       "      <td>-1.163604</td>\n",
       "      <td>-0.321687</td>\n",
       "      <td>-1.211972</td>\n",
       "      <td>-1.001276</td>\n",
       "      <td>1.201936</td>\n",
       "      <td>0.952448</td>\n",
       "      <td>-0.299575</td>\n",
       "    </tr>\n",
       "    <tr>\n",
       "      <th>671155</th>\n",
       "      <td>409</td>\n",
       "      <td>12</td>\n",
       "      <td>-0.401732</td>\n",
       "      <td>1</td>\n",
       "      <td>1.998946</td>\n",
       "      <td>-0.464185</td>\n",
       "      <td>-0.293445</td>\n",
       "      <td>149</td>\n",
       "      <td>1.817237</td>\n",
       "      <td>-0.529366</td>\n",
       "      <td>-0.321687</td>\n",
       "      <td>0.831697</td>\n",
       "      <td>-1.001276</td>\n",
       "      <td>-0.558977</td>\n",
       "      <td>-0.086823</td>\n",
       "      <td>1.770454</td>\n",
       "    </tr>\n",
       "    <tr>\n",
       "      <th>121958</th>\n",
       "      <td>11</td>\n",
       "      <td>10</td>\n",
       "      <td>0.439977</td>\n",
       "      <td>0</td>\n",
       "      <td>-0.706961</td>\n",
       "      <td>0.598900</td>\n",
       "      <td>-0.292150</td>\n",
       "      <td>26</td>\n",
       "      <td>-0.696006</td>\n",
       "      <td>0.536518</td>\n",
       "      <td>-0.772389</td>\n",
       "      <td>-1.211972</td>\n",
       "      <td>-1.001276</td>\n",
       "      <td>0.761708</td>\n",
       "      <td>-0.952882</td>\n",
       "      <td>-0.932084</td>\n",
       "    </tr>\n",
       "  </tbody>\n",
       "</table>\n",
       "<p>1574534 rows × 16 columns</p>\n",
       "</div>"
      ],
      "text/plain": [
       "         merchant  category       amt  gender       lat      long  city_pop  \\\n",
       "681478        480        12 -0.226950       0  0.937560 -0.507385 -0.291217   \n",
       "1173083       207         5 -0.380055       1  1.518089 -1.593624 -0.287472   \n",
       "127158        549         2 -0.143545       0  0.557955 -0.566707 -0.288103   \n",
       "1593548       192         7 -0.028996       1  0.176554  0.204500 -0.293455   \n",
       "913411        470         0 -0.429887       1  0.468249  1.150456 -0.243219   \n",
       "...           ...       ...       ...     ...       ...       ...       ...   \n",
       "259178        191         9 -0.422100       0  0.578126  1.284305 -0.275856   \n",
       "1414414       292        13 -0.379806       0 -0.983380 -0.023689 -0.288312   \n",
       "131932        680         6  0.300076       0 -0.694507 -1.188670 -0.292880   \n",
       "671155        409        12 -0.401732       1  1.998946 -0.464185 -0.293445   \n",
       "121958         11        10  0.439977       0 -0.706961  0.598900 -0.292150   \n",
       "\n",
       "         job  merch_lat  merch_long       day     month      year      hour  \\\n",
       "681478   311   0.985912   -0.503384  0.129015  0.831697 -1.001276  1.495422   \n",
       "1173083  330   1.553861   -1.612441 -1.335766 -0.628066  0.998726  0.761708   \n",
       "127158   444   0.735084   -0.583767 -0.547038 -1.211972 -1.001276 -0.265491   \n",
       "1593548  287   0.223163    0.160285 -0.547038  0.831697  0.998726  0.027994   \n",
       "913411   374   0.653855    1.199632  1.481121  1.415603 -1.001276  0.468222   \n",
       "...      ...        ...         ...       ...       ...       ...       ...   \n",
       "259178   271   0.425936    1.348991 -0.772389 -0.628066 -1.001276 -0.999205   \n",
       "1414414  144  -0.940517    0.025052 -1.673793  0.247792  0.998726  1.055194   \n",
       "131932   442  -0.723445   -1.163604 -0.321687 -1.211972 -1.001276  1.201936   \n",
       "671155   149   1.817237   -0.529366 -0.321687  0.831697 -1.001276 -0.558977   \n",
       "121958    26  -0.696006    0.536518 -0.772389 -1.211972 -1.001276  0.761708   \n",
       "\n",
       "           minute       age  \n",
       "681478   1.010185  0.045430  \n",
       "1173083  0.548287  0.390435  \n",
       "127158   0.259601 -0.012071  \n",
       "1593548 -1.357043  0.390435  \n",
       "913411  -0.490984 -1.162087  \n",
       "...           ...       ...  \n",
       "259178   1.414346  0.505436  \n",
       "1414414 -1.068356 -0.702080  \n",
       "131932   0.952448 -0.299575  \n",
       "671155  -0.086823  1.770454  \n",
       "121958  -0.952882 -0.932084  \n",
       "\n",
       "[1574534 rows x 16 columns]"
      ]
     },
     "execution_count": 25,
     "metadata": {},
     "output_type": "execute_result"
    }
   ],
   "source": [
    "X_train_scaled"
   ]
  },
  {
   "cell_type": "markdown",
   "id": "bff14440",
   "metadata": {
    "papermill": {
     "duration": 0.014048,
     "end_time": "2025-09-03T09:46:38.882300",
     "exception": false,
     "start_time": "2025-09-03T09:46:38.868252",
     "status": "completed"
    },
    "tags": []
   },
   "source": [
    "# Supervised Machine Learning Method - With Fraud and Not Fraud Labels"
   ]
  },
  {
   "cell_type": "markdown",
   "id": "182fce6a",
   "metadata": {
    "papermill": {
     "duration": 0.014754,
     "end_time": "2025-09-03T09:46:38.912089",
     "exception": false,
     "start_time": "2025-09-03T09:46:38.897335",
     "status": "completed"
    },
    "tags": []
   },
   "source": [
    "## 1. Model Training - Logistic Regression"
   ]
  },
  {
   "cell_type": "code",
   "execution_count": 26,
   "id": "efe2f229",
   "metadata": {
    "execution": {
     "iopub.execute_input": "2025-09-03T09:46:38.942392Z",
     "iopub.status.busy": "2025-09-03T09:46:38.942035Z",
     "iopub.status.idle": "2025-09-03T09:46:38.948837Z",
     "shell.execute_reply": "2025-09-03T09:46:38.947763Z"
    },
    "papermill": {
     "duration": 0.023876,
     "end_time": "2025-09-03T09:46:38.950568",
     "exception": false,
     "start_time": "2025-09-03T09:46:38.926692",
     "status": "completed"
    },
    "tags": []
   },
   "outputs": [],
   "source": [
    "from sklearn.metrics import ConfusionMatrixDisplay, r2_score, mean_absolute_error, mean_squared_error, classification_report, confusion_matrix\n",
    "\n",
    "def eval(model, X_train_scaled, X_test_scaled, y_test, y_pred_train, y_pred):\n",
    "    print(confusion_matrix(y_test, y_pred))\n",
    "    print(\"Train_Set - Confusion Matrix\")\n",
    "    print(classification_report(y_train,y_pred_train))\n",
    "    print(\"Test_Set - Confusion Matrix\")\n",
    "    print(classification_report(y_test,y_pred))\n",
    "    print(\"---\"*20)\n",
    "    cm = confusion_matrix(y_test, y_pred, labels=model.classes_)\n",
    "    disp = ConfusionMatrixDisplay(confusion_matrix=cm, display_labels=model.classes_)\n",
    "    disp.plot()\n",
    "    plt.show()"
   ]
  },
  {
   "cell_type": "code",
   "execution_count": 27,
   "id": "7ffbf682",
   "metadata": {
    "execution": {
     "iopub.execute_input": "2025-09-03T09:46:38.981330Z",
     "iopub.status.busy": "2025-09-03T09:46:38.980993Z",
     "iopub.status.idle": "2025-09-03T09:46:57.171616Z",
     "shell.execute_reply": "2025-09-03T09:46:57.170393Z"
    },
    "papermill": {
     "duration": 18.20823,
     "end_time": "2025-09-03T09:46:57.173326",
     "exception": false,
     "start_time": "2025-09-03T09:46:38.965096",
     "status": "completed"
    },
    "tags": []
   },
   "outputs": [
    {
     "name": "stdout",
     "output_type": "stream",
     "text": [
      "Accuracy     : 0.9457172676887641\n",
      "Recall       : 0.7582938388625592\n",
      "Precision    : 0.07068029786696958\n"
     ]
    }
   ],
   "source": [
    "# 1. Logistic regression\n",
    "from sklearn.linear_model import LogisticRegression\n",
    "from sklearn.metrics import confusion_matrix, accuracy_score, recall_score, precision_score\n",
    "import seaborn as sns\n",
    "import matplotlib.pyplot as plt\n",
    "\n",
    "# Base model\n",
    "lr = LogisticRegression(solver='liblinear', class_weight='balanced', random_state=42)\n",
    "\n",
    "lr.fit(X_train_scaled, y_train)\n",
    "\n",
    "y_pred_train = lr.predict(X_train_scaled)\n",
    "y_pred = lr.predict(X_test_scaled)\n",
    "\n",
    "\n",
    "acc = accuracy_score(y_test, y_pred)\n",
    "rec = recall_score(y_test, y_pred)\n",
    "prec = precision_score(y_test, y_pred)\n",
    "\n",
    "print(\"Accuracy     :\", acc)\n",
    "print(\"Recall       :\", rec)\n",
    "print(\"Precision    :\", prec)"
   ]
  },
  {
   "cell_type": "code",
   "execution_count": 28,
   "id": "6fe28551",
   "metadata": {
    "execution": {
     "iopub.execute_input": "2025-09-03T09:46:57.203849Z",
     "iopub.status.busy": "2025-09-03T09:46:57.203432Z",
     "iopub.status.idle": "2025-09-03T09:47:00.296866Z",
     "shell.execute_reply": "2025-09-03T09:47:00.295885Z"
    },
    "papermill": {
     "duration": 3.110787,
     "end_time": "2025-09-03T09:47:00.298979",
     "exception": false,
     "start_time": "2025-09-03T09:46:57.188192",
     "status": "completed"
    },
    "tags": []
   },
   "outputs": [
    {
     "name": "stdout",
     "output_type": "stream",
     "text": [
      "Logistic Regression Model\n",
      "------------------\n",
      "[[261657  14726]\n",
      " [   357   1120]]\n",
      "Train_Set - Confusion Matrix\n",
      "              precision    recall  f1-score   support\n",
      "\n",
      "           0       1.00      0.95      0.97   1566360\n",
      "           1       0.07      0.76      0.13      8174\n",
      "\n",
      "    accuracy                           0.95   1574534\n",
      "   macro avg       0.53      0.85      0.55   1574534\n",
      "weighted avg       0.99      0.95      0.97   1574534\n",
      "\n",
      "Test_Set - Confusion Matrix\n",
      "              precision    recall  f1-score   support\n",
      "\n",
      "           0       1.00      0.95      0.97    276383\n",
      "           1       0.07      0.76      0.13      1477\n",
      "\n",
      "    accuracy                           0.95    277860\n",
      "   macro avg       0.53      0.85      0.55    277860\n",
      "weighted avg       0.99      0.95      0.97    277860\n",
      "\n",
      "------------------------------------------------------------\n"
     ]
    },
    {
     "data": {
      "image/png": "[encoded data removed]",
      "text/plain": [
       "<Figure size 640x480 with 2 Axes>"
      ]
     },
     "metadata": {},
     "output_type": "display_data"
    }
   ],
   "source": [
    "print(\"Logistic Regression Model\")\n",
    "print(\"------------------\")\n",
    "eval(lr, X_train_scaled, X_test_scaled, y_test, y_pred_train, y_pred)"
   ]
  },
  {
   "cell_type": "markdown",
   "id": "6d01cdbb",
   "metadata": {
    "papermill": {
     "duration": 0.01555,
     "end_time": "2025-09-03T09:47:00.330001",
     "exception": false,
     "start_time": "2025-09-03T09:47:00.314451",
     "status": "completed"
    },
    "tags": []
   },
   "source": [
    "### 5-Fold Cross Validation for Logistic Regression"
   ]
  },
  {
   "cell_type": "code",
   "execution_count": 29,
   "id": "aca176e4",
   "metadata": {
    "execution": {
     "iopub.execute_input": "2025-09-03T09:47:00.362157Z",
     "iopub.status.busy": "2025-09-03T09:47:00.361733Z",
     "iopub.status.idle": "2025-09-03T09:48:10.223965Z",
     "shell.execute_reply": "2025-09-03T09:48:10.222640Z"
    },
    "papermill": {
     "duration": 69.89464,
     "end_time": "2025-09-03T09:48:10.239463",
     "exception": false,
     "start_time": "2025-09-03T09:47:00.344823",
     "status": "completed"
    },
    "tags": []
   },
   "outputs": [
    {
     "name": "stdout",
     "output_type": "stream",
     "text": [
      "Cross Validation scores for Logistic Regression with default parameters\n"
     ]
    },
    {
     "data": {
      "text/plain": [
       "test_accuracy     0.945488\n",
       "test_precision    0.068892\n",
       "test_recall       0.758992\n",
       "test_f1           0.126315\n",
       "test_roc_auc      0.859969\n",
       "dtype: float64"
      ]
     },
     "execution_count": 29,
     "metadata": {},
     "output_type": "execute_result"
    }
   ],
   "source": [
    "# Cross Validation on Logistic Regression\n",
    "from sklearn.model_selection import StratifiedKFold, GridSearchCV, cross_val_score, cross_validate\n",
    "\n",
    "print('Cross Validation scores for Logistic Regression with default parameters')\n",
    "\n",
    "lr_cv = LogisticRegression(solver='liblinear', class_weight = 'balanced', random_state = 42)\n",
    "lr_cv_scores = cross_validate(lr_cv, X_train_scaled, y_train, \n",
    "                              scoring = ['accuracy', 'precision','recall', 'f1', 'roc_auc'], cv = 5)\n",
    "lr_cv_scores = pd.DataFrame(lr_cv_scores, index = range(1, 6))\n",
    "lr_cv_scores.mean()[2:]"
   ]
  },
  {
   "cell_type": "code",
   "execution_count": 30,
   "id": "ad3ceb24",
   "metadata": {
    "execution": {
     "iopub.execute_input": "2025-09-03T09:48:10.270362Z",
     "iopub.status.busy": "2025-09-03T09:48:10.270047Z",
     "iopub.status.idle": "2025-09-03T09:48:10.281983Z",
     "shell.execute_reply": "2025-09-03T09:48:10.280916Z"
    },
    "papermill": {
     "duration": 0.029289,
     "end_time": "2025-09-03T09:48:10.283617",
     "exception": false,
     "start_time": "2025-09-03T09:48:10.254328",
     "status": "completed"
    },
    "tags": []
   },
   "outputs": [
    {
     "data": {
      "text/html": [
       "<div>\n",
       "<style scoped>\n",
       "    .dataframe tbody tr th:only-of-type {\n",
       "        vertical-align: middle;\n",
       "    }\n",
       "\n",
       "    .dataframe tbody tr th {\n",
       "        vertical-align: top;\n",
       "    }\n",
       "\n",
       "    .dataframe thead th {\n",
       "        text-align: right;\n",
       "    }\n",
       "</style>\n",
       "<table border=\"1\" class=\"dataframe\">\n",
       "  <thead>\n",
       "    <tr style=\"text-align: right;\">\n",
       "      <th></th>\n",
       "      <th>fit_time</th>\n",
       "      <th>score_time</th>\n",
       "      <th>test_accuracy</th>\n",
       "      <th>test_precision</th>\n",
       "      <th>test_recall</th>\n",
       "      <th>test_f1</th>\n",
       "      <th>test_roc_auc</th>\n",
       "    </tr>\n",
       "  </thead>\n",
       "  <tbody>\n",
       "    <tr>\n",
       "      <th>1</th>\n",
       "      <td>14.569115</td>\n",
       "      <td>0.563735</td>\n",
       "      <td>0.944037</td>\n",
       "      <td>0.067892</td>\n",
       "      <td>0.768196</td>\n",
       "      <td>0.124758</td>\n",
       "      <td>0.862755</td>\n",
       "    </tr>\n",
       "    <tr>\n",
       "      <th>2</th>\n",
       "      <td>12.325544</td>\n",
       "      <td>0.529605</td>\n",
       "      <td>0.944841</td>\n",
       "      <td>0.068739</td>\n",
       "      <td>0.766972</td>\n",
       "      <td>0.126170</td>\n",
       "      <td>0.865295</td>\n",
       "    </tr>\n",
       "    <tr>\n",
       "      <th>3</th>\n",
       "      <td>13.155648</td>\n",
       "      <td>0.503162</td>\n",
       "      <td>0.946114</td>\n",
       "      <td>0.067764</td>\n",
       "      <td>0.735168</td>\n",
       "      <td>0.124090</td>\n",
       "      <td>0.847886</td>\n",
       "    </tr>\n",
       "    <tr>\n",
       "      <th>4</th>\n",
       "      <td>14.545209</td>\n",
       "      <td>0.505051</td>\n",
       "      <td>0.946425</td>\n",
       "      <td>0.070284</td>\n",
       "      <td>0.762080</td>\n",
       "      <td>0.128699</td>\n",
       "      <td>0.861088</td>\n",
       "    </tr>\n",
       "    <tr>\n",
       "      <th>5</th>\n",
       "      <td>12.431860</td>\n",
       "      <td>0.498604</td>\n",
       "      <td>0.946022</td>\n",
       "      <td>0.069780</td>\n",
       "      <td>0.762546</td>\n",
       "      <td>0.127860</td>\n",
       "      <td>0.862823</td>\n",
       "    </tr>\n",
       "  </tbody>\n",
       "</table>\n",
       "</div>"
      ],
      "text/plain": [
       "    fit_time  score_time  test_accuracy  test_precision  test_recall  \\\n",
       "1  14.569115    0.563735       0.944037        0.067892     0.768196   \n",
       "2  12.325544    0.529605       0.944841        0.068739     0.766972   \n",
       "3  13.155648    0.503162       0.946114        0.067764     0.735168   \n",
       "4  14.545209    0.505051       0.946425        0.070284     0.762080   \n",
       "5  12.431860    0.498604       0.946022        0.069780     0.762546   \n",
       "\n",
       "    test_f1  test_roc_auc  \n",
       "1  0.124758      0.862755  \n",
       "2  0.126170      0.865295  \n",
       "3  0.124090      0.847886  \n",
       "4  0.128699      0.861088  \n",
       "5  0.127860      0.862823  "
      ]
     },
     "execution_count": 30,
     "metadata": {},
     "output_type": "execute_result"
    }
   ],
   "source": [
    "lr_cv_scores"
   ]
  },
  {
   "cell_type": "markdown",
   "id": "dfb6003e",
   "metadata": {
    "papermill": {
     "duration": 0.01563,
     "end_time": "2025-09-03T09:48:10.314894",
     "exception": false,
     "start_time": "2025-09-03T09:48:10.299264",
     "status": "completed"
    },
    "tags": []
   },
   "source": [
    "### Grid Search for Logistic Regression"
   ]
  },
  {
   "cell_type": "code",
   "execution_count": 31,
   "id": "cf5332d7",
   "metadata": {
    "execution": {
     "iopub.execute_input": "2025-09-03T09:48:10.347667Z",
     "iopub.status.busy": "2025-09-03T09:48:10.346646Z",
     "iopub.status.idle": "2025-09-03T09:48:10.351383Z",
     "shell.execute_reply": "2025-09-03T09:48:10.350469Z"
    },
    "papermill": {
     "duration": 0.022635,
     "end_time": "2025-09-03T09:48:10.352766",
     "exception": false,
     "start_time": "2025-09-03T09:48:10.330131",
     "status": "completed"
    },
    "tags": []
   },
   "outputs": [],
   "source": [
    "param_grid = { \"class_weight\" : [\"balanced\"],\n",
    "              'penalty': [\"l2\", \"l1\"], # 'elasticnet'\n",
    "              'solver' : ['saga','lbfgs','liblinear'], # 'newton-cholesky'\n",
    "              }"
   ]
  },
  {
   "cell_type": "code",
   "execution_count": 32,
   "id": "82fc3163",
   "metadata": {
    "execution": {
     "iopub.execute_input": "2025-09-03T09:48:10.384321Z",
     "iopub.status.busy": "2025-09-03T09:48:10.383967Z",
     "iopub.status.idle": "2025-09-03T10:09:31.333488Z",
     "shell.execute_reply": "2025-09-03T10:09:31.331284Z"
    },
    "papermill": {
     "duration": 1280.971488,
     "end_time": "2025-09-03T10:09:31.339383",
     "exception": false,
     "start_time": "2025-09-03T09:48:10.367895",
     "status": "completed"
    },
    "tags": []
   },
   "outputs": [
    {
     "name": "stdout",
     "output_type": "stream",
     "text": [
      "Fitting 3 folds for each of 6 candidates, totalling 18 fits\n"
     ]
    },
    {
     "name": "stderr",
     "output_type": "stream",
     "text": [
      "/usr/local/lib/python3.11/dist-packages/sklearn/utils/validation.py:1143: DataConversionWarning: A column-vector y was passed when a 1d array was expected. Please change the shape of y to (n_samples, ), for example using ravel().\n",
      "  y = column_or_1d(y, warn=True)\n",
      "/usr/local/lib/python3.11/dist-packages/sklearn/utils/validation.py:1143: DataConversionWarning: A column-vector y was passed when a 1d array was expected. Please change the shape of y to (n_samples, ), for example using ravel().\n",
      "  y = column_or_1d(y, warn=True)\n",
      "/usr/local/lib/python3.11/dist-packages/sklearn/utils/validation.py:1143: DataConversionWarning: A column-vector y was passed when a 1d array was expected. Please change the shape of y to (n_samples, ), for example using ravel().\n",
      "  y = column_or_1d(y, warn=True)\n",
      "/usr/local/lib/python3.11/dist-packages/sklearn/utils/validation.py:1143: DataConversionWarning: A column-vector y was passed when a 1d array was expected. Please change the shape of y to (n_samples, ), for example using ravel().\n",
      "  y = column_or_1d(y, warn=True)\n",
      "/usr/local/lib/python3.11/dist-packages/sklearn/linear_model/_logistic.py:458: ConvergenceWarning: lbfgs failed to converge (status=1):\n",
      "STOP: TOTAL NO. OF ITERATIONS REACHED LIMIT.\n",
      "\n",
      "Increase the number of iterations (max_iter) or scale the data as shown in:\n",
      "    https://scikit-learn.org/stable/modules/preprocessing.html\n",
      "Please also refer to the documentation for alternative solver options:\n",
      "    https://scikit-learn.org/stable/modules/linear_model.html#logistic-regression\n",
      "  n_iter_i = _check_optimize_result(\n",
      "/usr/local/lib/python3.11/dist-packages/sklearn/utils/validation.py:1143: DataConversionWarning: A column-vector y was passed when a 1d array was expected. Please change the shape of y to (n_samples, ), for example using ravel().\n",
      "  y = column_or_1d(y, warn=True)\n",
      "/usr/local/lib/python3.11/dist-packages/sklearn/linear_model/_logistic.py:458: ConvergenceWarning: lbfgs failed to converge (status=1):\n",
      "STOP: TOTAL NO. OF ITERATIONS REACHED LIMIT.\n",
      "\n",
      "Increase the number of iterations (max_iter) or scale the data as shown in:\n",
      "    https://scikit-learn.org/stable/modules/preprocessing.html\n",
      "Please also refer to the documentation for alternative solver options:\n",
      "    https://scikit-learn.org/stable/modules/linear_model.html#logistic-regression\n",
      "  n_iter_i = _check_optimize_result(\n",
      "/usr/local/lib/python3.11/dist-packages/sklearn/utils/validation.py:1143: DataConversionWarning: A column-vector y was passed when a 1d array was expected. Please change the shape of y to (n_samples, ), for example using ravel().\n",
      "  y = column_or_1d(y, warn=True)\n",
      "/usr/local/lib/python3.11/dist-packages/sklearn/linear_model/_logistic.py:458: ConvergenceWarning: lbfgs failed to converge (status=1):\n",
      "STOP: TOTAL NO. OF ITERATIONS REACHED LIMIT.\n",
      "\n",
      "Increase the number of iterations (max_iter) or scale the data as shown in:\n",
      "    https://scikit-learn.org/stable/modules/preprocessing.html\n",
      "Please also refer to the documentation for alternative solver options:\n",
      "    https://scikit-learn.org/stable/modules/linear_model.html#logistic-regression\n",
      "  n_iter_i = _check_optimize_result(\n",
      "/usr/local/lib/python3.11/dist-packages/sklearn/utils/validation.py:1143: DataConversionWarning: A column-vector y was passed when a 1d array was expected. Please change the shape of y to (n_samples, ), for example using ravel().\n",
      "  y = column_or_1d(y, warn=True)\n",
      "/usr/local/lib/python3.11/dist-packages/sklearn/utils/validation.py:1143: DataConversionWarning: A column-vector y was passed when a 1d array was expected. Please change the shape of y to (n_samples, ), for example using ravel().\n",
      "  y = column_or_1d(y, warn=True)\n",
      "/usr/local/lib/python3.11/dist-packages/sklearn/utils/validation.py:1143: DataConversionWarning: A column-vector y was passed when a 1d array was expected. Please change the shape of y to (n_samples, ), for example using ravel().\n",
      "  y = column_or_1d(y, warn=True)\n",
      "/usr/local/lib/python3.11/dist-packages/sklearn/utils/validation.py:1143: DataConversionWarning: A column-vector y was passed when a 1d array was expected. Please change the shape of y to (n_samples, ), for example using ravel().\n",
      "  y = column_or_1d(y, warn=True)\n",
      "/usr/local/lib/python3.11/dist-packages/sklearn/linear_model/_sag.py:350: ConvergenceWarning: The max_iter was reached which means the coef_ did not converge\n",
      "  warnings.warn(\n",
      "/usr/local/lib/python3.11/dist-packages/sklearn/utils/validation.py:1143: DataConversionWarning: A column-vector y was passed when a 1d array was expected. Please change the shape of y to (n_samples, ), for example using ravel().\n",
      "  y = column_or_1d(y, warn=True)\n",
      "/usr/local/lib/python3.11/dist-packages/sklearn/linear_model/_sag.py:350: ConvergenceWarning: The max_iter was reached which means the coef_ did not converge\n",
      "  warnings.warn(\n",
      "/usr/local/lib/python3.11/dist-packages/sklearn/utils/validation.py:1143: DataConversionWarning: A column-vector y was passed when a 1d array was expected. Please change the shape of y to (n_samples, ), for example using ravel().\n",
      "  y = column_or_1d(y, warn=True)\n",
      "/usr/local/lib/python3.11/dist-packages/sklearn/linear_model/_sag.py:350: ConvergenceWarning: The max_iter was reached which means the coef_ did not converge\n",
      "  warnings.warn(\n",
      "/usr/local/lib/python3.11/dist-packages/sklearn/utils/validation.py:1143: DataConversionWarning: A column-vector y was passed when a 1d array was expected. Please change the shape of y to (n_samples, ), for example using ravel().\n",
      "  y = column_or_1d(y, warn=True)\n",
      "/usr/local/lib/python3.11/dist-packages/sklearn/linear_model/_sag.py:350: ConvergenceWarning: The max_iter was reached which means the coef_ did not converge\n",
      "  warnings.warn(\n",
      "/usr/local/lib/python3.11/dist-packages/sklearn/utils/validation.py:1143: DataConversionWarning: A column-vector y was passed when a 1d array was expected. Please change the shape of y to (n_samples, ), for example using ravel().\n",
      "  y = column_or_1d(y, warn=True)\n",
      "/usr/local/lib/python3.11/dist-packages/sklearn/linear_model/_sag.py:350: ConvergenceWarning: The max_iter was reached which means the coef_ did not converge\n",
      "  warnings.warn(\n",
      "/usr/local/lib/python3.11/dist-packages/sklearn/utils/validation.py:1143: DataConversionWarning: A column-vector y was passed when a 1d array was expected. Please change the shape of y to (n_samples, ), for example using ravel().\n",
      "  y = column_or_1d(y, warn=True)\n",
      "/usr/local/lib/python3.11/dist-packages/sklearn/linear_model/_sag.py:350: ConvergenceWarning: The max_iter was reached which means the coef_ did not converge\n",
      "  warnings.warn(\n"
     ]
    },
    {
     "name": "stdout",
     "output_type": "stream",
     "text": [
      "[CV] END .....class_weight=balanced, penalty=l2, solver=saga; total time= 1.6min\n",
      "[CV] END .....class_weight=balanced, penalty=l1, solver=saga; total time= 2.2min\n",
      "[CV] END .....class_weight=balanced, penalty=l2, solver=saga; total time= 1.7min\n",
      "[CV] END .....class_weight=balanced, penalty=l1, solver=saga; total time= 2.0min\n",
      "[CV] END class_weight=balanced, penalty=l1, solver=liblinear; total time= 7.4min\n",
      "[CV] END .....class_weight=balanced, penalty=l2, solver=saga; total time= 1.8min\n",
      "[CV] END ....class_weight=balanced, penalty=l1, solver=lbfgs; total time=   0.4s\n",
      "[CV] END ....class_weight=balanced, penalty=l1, solver=lbfgs; total time=   0.4s\n",
      "[CV] END ....class_weight=balanced, penalty=l1, solver=lbfgs; total time=   0.4s\n",
      "[CV] END class_weight=balanced, penalty=l1, solver=liblinear; total time= 9.4min\n",
      "[CV] END ....class_weight=balanced, penalty=l2, solver=lbfgs; total time=  13.8s\n",
      "[CV] END ....class_weight=balanced, penalty=l2, solver=lbfgs; total time=  11.9s\n",
      "[CV] END ....class_weight=balanced, penalty=l2, solver=lbfgs; total time=  12.4s\n",
      "[CV] END class_weight=balanced, penalty=l2, solver=liblinear; total time=  15.4s\n",
      "[CV] END class_weight=balanced, penalty=l2, solver=liblinear; total time=  14.8s\n",
      "[CV] END class_weight=balanced, penalty=l2, solver=liblinear; total time=  14.4s\n",
      "[CV] END .....class_weight=balanced, penalty=l1, solver=saga; total time= 2.0min\n",
      "[CV] END class_weight=balanced, penalty=l1, solver=liblinear; total time= 7.9min\n"
     ]
    }
   ],
   "source": [
    "import warnings\n",
    "warnings.filterwarnings('ignore')\n",
    "lr_grid = LogisticRegression(class_weight = 'balanced', random_state = 42)\n",
    "lr_grid_model = GridSearchCV(lr_grid, param_grid, scoring = \"f1\", cv = 3, verbose = 2, n_jobs = -1).fit(X_train_scaled, y_train)"
   ]
  },
  {
   "cell_type": "code",
   "execution_count": 33,
   "id": "9d3cdff8",
   "metadata": {
    "execution": {
     "iopub.execute_input": "2025-09-03T10:09:31.386577Z",
     "iopub.status.busy": "2025-09-03T10:09:31.386182Z",
     "iopub.status.idle": "2025-09-03T10:09:31.401082Z",
     "shell.execute_reply": "2025-09-03T10:09:31.399888Z"
    },
    "papermill": {
     "duration": 0.039218,
     "end_time": "2025-09-03T10:09:31.404054",
     "exception": false,
     "start_time": "2025-09-03T10:09:31.364836",
     "status": "completed"
    },
    "tags": []
   },
   "outputs": [
    {
     "name": "stdout",
     "output_type": "stream",
     "text": [
      "Best Estimators of GridSearchCV for Logistic Regression Model:  LogisticRegression(class_weight='balanced', penalty='l1', random_state=42,\n",
      "                   solver='liblinear')\n"
     ]
    }
   ],
   "source": [
    "print('Best Estimators of GridSearchCV for Logistic Regression Model: ', lr_grid_model.best_estimator_)"
   ]
  },
  {
   "cell_type": "code",
   "execution_count": 34,
   "id": "dbe8a0ff",
   "metadata": {
    "execution": {
     "iopub.execute_input": "2025-09-03T10:09:31.440326Z",
     "iopub.status.busy": "2025-09-03T10:09:31.440000Z",
     "iopub.status.idle": "2025-09-03T10:09:31.446257Z",
     "shell.execute_reply": "2025-09-03T10:09:31.444744Z"
    },
    "papermill": {
     "duration": 0.027063,
     "end_time": "2025-09-03T10:09:31.448204",
     "exception": false,
     "start_time": "2025-09-03T10:09:31.421141",
     "status": "completed"
    },
    "tags": []
   },
   "outputs": [
    {
     "name": "stdout",
     "output_type": "stream",
     "text": [
      "Best Parameters of GridSearchCV for Logistic Regression Model:  {'class_weight': 'balanced', 'penalty': 'l1', 'solver': 'liblinear'}\n"
     ]
    }
   ],
   "source": [
    "print('Best Parameters of GridSearchCV for Logistic Regression Model: ', lr_grid_model.best_params_)"
   ]
  },
  {
   "cell_type": "code",
   "execution_count": 35,
   "id": "c1c2d94f",
   "metadata": {
    "execution": {
     "iopub.execute_input": "2025-09-03T10:09:31.483981Z",
     "iopub.status.busy": "2025-09-03T10:09:31.483632Z",
     "iopub.status.idle": "2025-09-03T10:20:01.886162Z",
     "shell.execute_reply": "2025-09-03T10:20:01.884898Z"
    },
    "papermill": {
     "duration": 630.423176,
     "end_time": "2025-09-03T10:20:01.888414",
     "exception": false,
     "start_time": "2025-09-03T10:09:31.465238",
     "status": "completed"
    },
    "tags": []
   },
   "outputs": [],
   "source": [
    "lr_tuned = LogisticRegression(class_weight = 'balanced',\n",
    "                                  penalty = 'l1', \n",
    "                                  solver = 'liblinear',\n",
    "                                  random_state = 42).fit(X_train_scaled, y_train)"
   ]
  },
  {
   "cell_type": "code",
   "execution_count": 36,
   "id": "9cebce95",
   "metadata": {
    "execution": {
     "iopub.execute_input": "2025-09-03T10:20:01.925429Z",
     "iopub.status.busy": "2025-09-03T10:20:01.925058Z",
     "iopub.status.idle": "2025-09-03T10:20:02.328406Z",
     "shell.execute_reply": "2025-09-03T10:20:02.326923Z"
    },
    "papermill": {
     "duration": 0.424141,
     "end_time": "2025-09-03T10:20:02.330577",
     "exception": false,
     "start_time": "2025-09-03T10:20:01.906436",
     "status": "completed"
    },
    "tags": []
   },
   "outputs": [
    {
     "name": "stdout",
     "output_type": "stream",
     "text": [
      "Accuracy     : 0.9457064708846181\n",
      "Recall       : 0.7582938388625592\n",
      "Precision    : 0.0706669190485204\n"
     ]
    }
   ],
   "source": [
    "y_pred_train = lr.predict(X_train_scaled)\n",
    "y_pred = lr_tuned.predict(X_test_scaled)\n",
    "\n",
    "acc = accuracy_score(y_test, y_pred)\n",
    "rec = recall_score(y_test, y_pred)\n",
    "prec = precision_score(y_test, y_pred)\n",
    "\n",
    "print(\"Accuracy     :\", acc)\n",
    "print(\"Recall       :\", rec)\n",
    "print(\"Precision    :\", prec)"
   ]
  },
  {
   "cell_type": "code",
   "execution_count": 37,
   "id": "07989814",
   "metadata": {
    "execution": {
     "iopub.execute_input": "2025-09-03T10:20:02.375394Z",
     "iopub.status.busy": "2025-09-03T10:20:02.375025Z",
     "iopub.status.idle": "2025-09-03T10:20:05.589274Z",
     "shell.execute_reply": "2025-09-03T10:20:05.587898Z"
    },
    "papermill": {
     "duration": 3.23829,
     "end_time": "2025-09-03T10:20:05.591182",
     "exception": false,
     "start_time": "2025-09-03T10:20:02.352892",
     "status": "completed"
    },
    "tags": []
   },
   "outputs": [
    {
     "name": "stdout",
     "output_type": "stream",
     "text": [
      "Logistic Regression Model with Best Parameter\n",
      "------------------\n",
      "[[261654  14729]\n",
      " [   357   1120]]\n",
      "Train_Set - Confusion Matrix\n",
      "              precision    recall  f1-score   support\n",
      "\n",
      "           0       1.00      0.95      0.97   1566360\n",
      "           1       0.07      0.76      0.13      8174\n",
      "\n",
      "    accuracy                           0.95   1574534\n",
      "   macro avg       0.53      0.85      0.55   1574534\n",
      "weighted avg       0.99      0.95      0.97   1574534\n",
      "\n",
      "Test_Set - Confusion Matrix\n",
      "              precision    recall  f1-score   support\n",
      "\n",
      "           0       1.00      0.95      0.97    276383\n",
      "           1       0.07      0.76      0.13      1477\n",
      "\n",
      "    accuracy                           0.95    277860\n",
      "   macro avg       0.53      0.85      0.55    277860\n",
      "weighted avg       0.99      0.95      0.97    277860\n",
      "\n",
      "------------------------------------------------------------\n"
     ]
    },
    {
     "data": {
      "image/png": "[encoded data removed]",
      "text/plain": [
       "<Figure size 640x480 with 2 Axes>"
      ]
     },
     "metadata": {},
     "output_type": "display_data"
    }
   ],
   "source": [
    "print(\"Logistic Regression Model with Best Parameter\")\n",
    "print(\"------------------\")\n",
    "eval(lr_tuned, X_train_scaled, X_test_scaled, y_test, y_pred_train, y_pred)"
   ]
  },
  {
   "cell_type": "code",
   "execution_count": 38,
   "id": "7ff5ec50",
   "metadata": {
    "execution": {
     "iopub.execute_input": "2025-09-03T10:20:05.630096Z",
     "iopub.status.busy": "2025-09-03T10:20:05.629692Z",
     "iopub.status.idle": "2025-09-03T10:20:05.640965Z",
     "shell.execute_reply": "2025-09-03T10:20:05.639490Z"
    },
    "papermill": {
     "duration": 0.033922,
     "end_time": "2025-09-03T10:20:05.643060",
     "exception": false,
     "start_time": "2025-09-03T10:20:05.609138",
     "status": "completed"
    },
    "tags": []
   },
   "outputs": [],
   "source": [
    "lr_Pred = pd.concat({\n",
    "    \"Actual\": y_test.reset_index(drop=True),\n",
    "    \"lr_Pred\": pd.DataFrame(y_pred, columns=['y_pred']).reset_index(drop=True)\n",
    "}, axis = 1)\n",
    "lr_Pred.columns = [\"Actual\", \"lr_Pred\"]"
   ]
  },
  {
   "cell_type": "code",
   "execution_count": 39,
   "id": "f89828cd",
   "metadata": {
    "execution": {
     "iopub.execute_input": "2025-09-03T10:20:05.689859Z",
     "iopub.status.busy": "2025-09-03T10:20:05.689466Z",
     "iopub.status.idle": "2025-09-03T10:20:05.740112Z",
     "shell.execute_reply": "2025-09-03T10:20:05.738757Z"
    },
    "papermill": {
     "duration": 0.074793,
     "end_time": "2025-09-03T10:20:05.742010",
     "exception": false,
     "start_time": "2025-09-03T10:20:05.667217",
     "status": "completed"
    },
    "tags": []
   },
   "outputs": [
    {
     "data": {
      "text/html": [
       "<div>\n",
       "<style scoped>\n",
       "    .dataframe tbody tr th:only-of-type {\n",
       "        vertical-align: middle;\n",
       "    }\n",
       "\n",
       "    .dataframe tbody tr th {\n",
       "        vertical-align: top;\n",
       "    }\n",
       "\n",
       "    .dataframe thead th {\n",
       "        text-align: right;\n",
       "    }\n",
       "</style>\n",
       "<table border=\"1\" class=\"dataframe\">\n",
       "  <thead>\n",
       "    <tr style=\"text-align: right;\">\n",
       "      <th>lr_Pred</th>\n",
       "      <th>0</th>\n",
       "      <th>1</th>\n",
       "    </tr>\n",
       "    <tr>\n",
       "      <th>Actual</th>\n",
       "      <th></th>\n",
       "      <th></th>\n",
       "    </tr>\n",
       "  </thead>\n",
       "  <tbody>\n",
       "    <tr>\n",
       "      <th>0</th>\n",
       "      <td>261654</td>\n",
       "      <td>14729</td>\n",
       "    </tr>\n",
       "    <tr>\n",
       "      <th>1</th>\n",
       "      <td>357</td>\n",
       "      <td>1120</td>\n",
       "    </tr>\n",
       "  </tbody>\n",
       "</table>\n",
       "</div>"
      ],
      "text/plain": [
       "lr_Pred       0      1\n",
       "Actual                \n",
       "0        261654  14729\n",
       "1           357   1120"
      ]
     },
     "execution_count": 39,
     "metadata": {},
     "output_type": "execute_result"
    }
   ],
   "source": [
    "pd.crosstab(lr_Pred['Actual'], lr_Pred['lr_Pred'])"
   ]
  },
  {
   "cell_type": "markdown",
   "id": "0eeccbd8",
   "metadata": {
    "papermill": {
     "duration": 0.018578,
     "end_time": "2025-09-03T10:20:05.778781",
     "exception": false,
     "start_time": "2025-09-03T10:20:05.760203",
     "status": "completed"
    },
    "tags": []
   },
   "source": [
    "## 2. Model Training - Random Forest"
   ]
  },
  {
   "cell_type": "code",
   "execution_count": 40,
   "id": "a07eb6e7",
   "metadata": {
    "execution": {
     "iopub.execute_input": "2025-09-03T10:20:05.818649Z",
     "iopub.status.busy": "2025-09-03T10:20:05.818300Z",
     "iopub.status.idle": "2025-09-03T10:29:30.861084Z",
     "shell.execute_reply": "2025-09-03T10:29:30.859737Z"
    },
    "papermill": {
     "duration": 565.064256,
     "end_time": "2025-09-03T10:29:30.863377",
     "exception": false,
     "start_time": "2025-09-03T10:20:05.799121",
     "status": "completed"
    },
    "tags": []
   },
   "outputs": [],
   "source": [
    "from sklearn.ensemble import RandomForestClassifier\n",
    "\n",
    "# base model\n",
    "RF_model = RandomForestClassifier(class_weight = \"balanced\", random_state = 42)\n",
    "RF_model.fit(X_train_scaled, y_train)\n",
    "y_pred_train = RF_model.predict(X_train_scaled)\n",
    "y_pred = RF_model.predict(X_test_scaled)"
   ]
  },
  {
   "cell_type": "code",
   "execution_count": 41,
   "id": "e01cf365",
   "metadata": {
    "execution": {
     "iopub.execute_input": "2025-09-03T10:29:30.903444Z",
     "iopub.status.busy": "2025-09-03T10:29:30.903107Z",
     "iopub.status.idle": "2025-09-03T10:29:33.899067Z",
     "shell.execute_reply": "2025-09-03T10:29:33.897620Z"
    },
    "papermill": {
     "duration": 3.017851,
     "end_time": "2025-09-03T10:29:33.900725",
     "exception": false,
     "start_time": "2025-09-03T10:29:30.882874",
     "status": "completed"
    },
    "tags": []
   },
   "outputs": [
    {
     "name": "stdout",
     "output_type": "stream",
     "text": [
      "Random Forest Model\n",
      "------------------\n",
      "[[276360     23]\n",
      " [   354   1123]]\n",
      "Train_Set - Confusion Matrix\n",
      "              precision    recall  f1-score   support\n",
      "\n",
      "           0       1.00      1.00      1.00   1566360\n",
      "           1       1.00      1.00      1.00      8174\n",
      "\n",
      "    accuracy                           1.00   1574534\n",
      "   macro avg       1.00      1.00      1.00   1574534\n",
      "weighted avg       1.00      1.00      1.00   1574534\n",
      "\n",
      "Test_Set - Confusion Matrix\n",
      "              precision    recall  f1-score   support\n",
      "\n",
      "           0       1.00      1.00      1.00    276383\n",
      "           1       0.98      0.76      0.86      1477\n",
      "\n",
      "    accuracy                           1.00    277860\n",
      "   macro avg       0.99      0.88      0.93    277860\n",
      "weighted avg       1.00      1.00      1.00    277860\n",
      "\n",
      "------------------------------------------------------------\n"
     ]
    },
    {
     "data": {
      "image/png": "[encoded data removed]",
      "text/plain": [
       "<Figure size 640x480 with 2 Axes>"
      ]
     },
     "metadata": {},
     "output_type": "display_data"
    }
   ],
   "source": [
    "print(\"Random Forest Model\")\n",
    "print(\"------------------\")\n",
    "eval(RF_model, X_train_scaled, X_test_scaled, y_test, y_pred_train, y_pred)"
   ]
  },
  {
   "cell_type": "markdown",
   "id": "4e4ec11a",
   "metadata": {
    "papermill": {
     "duration": 0.020918,
     "end_time": "2025-09-03T10:29:33.942482",
     "exception": false,
     "start_time": "2025-09-03T10:29:33.921564",
     "status": "completed"
    },
    "tags": []
   },
   "source": [
    "When comparing the recall between training set and test set, it seems the model is overfitting."
   ]
  },
  {
   "cell_type": "code",
   "execution_count": 42,
   "id": "9239f126",
   "metadata": {
    "execution": {
     "iopub.execute_input": "2025-09-03T10:29:33.984775Z",
     "iopub.status.busy": "2025-09-03T10:29:33.984399Z",
     "iopub.status.idle": "2025-09-03T10:29:34.011947Z",
     "shell.execute_reply": "2025-09-03T10:29:34.010476Z"
    },
    "papermill": {
     "duration": 0.049976,
     "end_time": "2025-09-03T10:29:34.013967",
     "exception": false,
     "start_time": "2025-09-03T10:29:33.963991",
     "status": "completed"
    },
    "tags": []
   },
   "outputs": [
    {
     "name": "stdout",
     "output_type": "stream",
     "text": [
      "Random Forest Feature Importance\n"
     ]
    },
    {
     "data": {
      "text/html": [
       "<div>\n",
       "<style scoped>\n",
       "    .dataframe tbody tr th:only-of-type {\n",
       "        vertical-align: middle;\n",
       "    }\n",
       "\n",
       "    .dataframe tbody tr th {\n",
       "        vertical-align: top;\n",
       "    }\n",
       "\n",
       "    .dataframe thead th {\n",
       "        text-align: right;\n",
       "    }\n",
       "</style>\n",
       "<table border=\"1\" class=\"dataframe\">\n",
       "  <thead>\n",
       "    <tr style=\"text-align: right;\">\n",
       "      <th></th>\n",
       "      <th>Importance</th>\n",
       "    </tr>\n",
       "  </thead>\n",
       "  <tbody>\n",
       "    <tr>\n",
       "      <th>amt</th>\n",
       "      <td>0.579422</td>\n",
       "    </tr>\n",
       "    <tr>\n",
       "      <th>hour</th>\n",
       "      <td>0.188332</td>\n",
       "    </tr>\n",
       "    <tr>\n",
       "      <th>category</th>\n",
       "      <td>0.093735</td>\n",
       "    </tr>\n",
       "    <tr>\n",
       "      <th>age</th>\n",
       "      <td>0.021858</td>\n",
       "    </tr>\n",
       "    <tr>\n",
       "      <th>city_pop</th>\n",
       "      <td>0.015659</td>\n",
       "    </tr>\n",
       "    <tr>\n",
       "      <th>merchant</th>\n",
       "      <td>0.011755</td>\n",
       "    </tr>\n",
       "    <tr>\n",
       "      <th>month</th>\n",
       "      <td>0.011477</td>\n",
       "    </tr>\n",
       "    <tr>\n",
       "      <th>merch_long</th>\n",
       "      <td>0.011432</td>\n",
       "    </tr>\n",
       "    <tr>\n",
       "      <th>job</th>\n",
       "      <td>0.011003</td>\n",
       "    </tr>\n",
       "    <tr>\n",
       "      <th>merch_lat</th>\n",
       "      <td>0.010995</td>\n",
       "    </tr>\n",
       "    <tr>\n",
       "      <th>lat</th>\n",
       "      <td>0.010019</td>\n",
       "    </tr>\n",
       "    <tr>\n",
       "      <th>day</th>\n",
       "      <td>0.009897</td>\n",
       "    </tr>\n",
       "    <tr>\n",
       "      <th>long</th>\n",
       "      <td>0.009405</td>\n",
       "    </tr>\n",
       "    <tr>\n",
       "      <th>minute</th>\n",
       "      <td>0.008691</td>\n",
       "    </tr>\n",
       "    <tr>\n",
       "      <th>gender</th>\n",
       "      <td>0.004435</td>\n",
       "    </tr>\n",
       "    <tr>\n",
       "      <th>year</th>\n",
       "      <td>0.001886</td>\n",
       "    </tr>\n",
       "  </tbody>\n",
       "</table>\n",
       "</div>"
      ],
      "text/plain": [
       "            Importance\n",
       "amt           0.579422\n",
       "hour          0.188332\n",
       "category      0.093735\n",
       "age           0.021858\n",
       "city_pop      0.015659\n",
       "merchant      0.011755\n",
       "month         0.011477\n",
       "merch_long    0.011432\n",
       "job           0.011003\n",
       "merch_lat     0.010995\n",
       "lat           0.010019\n",
       "day           0.009897\n",
       "long          0.009405\n",
       "minute        0.008691\n",
       "gender        0.004435\n",
       "year          0.001886"
      ]
     },
     "execution_count": 42,
     "metadata": {},
     "output_type": "execute_result"
    }
   ],
   "source": [
    "print('Random Forest Feature Importance')\n",
    "RF_feature_imp = pd.DataFrame(index=X.columns, data = RF_model.feature_importances_, columns = ['Importance']).sort_values(\"Importance\", ascending = False)\n",
    "RF_feature_imp"
   ]
  },
  {
   "cell_type": "code",
   "execution_count": 43,
   "id": "00d5eb6f",
   "metadata": {
    "execution": {
     "iopub.execute_input": "2025-09-03T10:29:34.057394Z",
     "iopub.status.busy": "2025-09-03T10:29:34.057026Z",
     "iopub.status.idle": "2025-09-03T10:29:38.132088Z",
     "shell.execute_reply": "2025-09-03T10:29:38.131031Z"
    },
    "papermill": {
     "duration": 4.099366,
     "end_time": "2025-09-03T10:29:38.133953",
     "exception": false,
     "start_time": "2025-09-03T10:29:34.034587",
     "status": "completed"
    },
    "tags": []
   },
   "outputs": [
    {
     "data": {
      "text/html": [
       "<html>\n",
       "<head><meta charset=\"utf-8\" /></head>\n",
       "<body>\n",
       "    <div>            <script src=\"https://cdnjs.cloudflare.com/ajax/libs/mathjax/2.7.5/MathJax.js?config=TeX-AMS-MML_SVG\"></script><script type=\"text/javascript\">if (window.MathJax && window.MathJax.Hub && window.MathJax.Hub.Config) {window.MathJax.Hub.Config({SVG: {font: \"STIX-Web\"}});}</script>                <script type=\"text/javascript\">window.PlotlyConfig = {MathJaxConfig: 'local'};</script>\n",
       "        <script charset=\"utf-8\" src=\"https://cdn.plot.ly/plotly-2.35.2.min.js\"></script>                <div id=\"ba109965-7d7f-4346-9112-8ba2c4cf0145\" class=\"plotly-graph-div\" style=\"height:525px; width:100%;\"></div>            <script type=\"text/javascript\">                                    window.PLOTLYENV=window.PLOTLYENV || {};                                    if (document.getElementById(\"ba109965-7d7f-4346-9112-8ba2c4cf0145\")) {                    Plotly.newPlot(                        \"ba109965-7d7f-4346-9112-8ba2c4cf0145\",                        [{\"alignmentgroup\":\"True\",\"hovertemplate\":\"Features=%{x}\\u003cbr\\u003eImportance=%{y}\\u003cextra\\u003e\\u003c\\u002fextra\\u003e\",\"legendgroup\":\"\",\"marker\":{\"color\":\"#636efa\",\"pattern\":{\"shape\":\"\"}},\"name\":\"\",\"offsetgroup\":\"\",\"orientation\":\"v\",\"showlegend\":false,\"textposition\":\"auto\",\"x\":[\"amt\",\"hour\",\"category\",\"age\",\"city_pop\",\"merchant\",\"month\",\"merch_long\",\"job\",\"merch_lat\",\"lat\",\"day\",\"long\",\"minute\",\"gender\",\"year\"],\"xaxis\":\"x\",\"y\":[0.5794218870545641,0.18833201708479574,0.09373471480879748,0.021858162089641992,0.015659184538528357,0.01175499811061735,0.011477024864152446,0.011431940144458315,0.011002510306893478,0.010995475179031844,0.010018791634464867,0.009896617385461225,0.009404998939394187,0.00869071949677628,0.00443482564620685,0.0018861327162156241],\"yaxis\":\"y\",\"type\":\"bar\"}],                        {\"template\":{\"data\":{\"histogram2dcontour\":[{\"type\":\"histogram2dcontour\",\"colorbar\":{\"outlinewidth\":0,\"ticks\":\"\"},\"colorscale\":[[0.0,\"#0d0887\"],[0.1111111111111111,\"#46039f\"],[0.2222222222222222,\"#7201a8\"],[0.3333333333333333,\"#9c179e\"],[0.4444444444444444,\"#bd3786\"],[0.5555555555555556,\"#d8576b\"],[0.6666666666666666,\"#ed7953\"],[0.7777777777777778,\"#fb9f3a\"],[0.8888888888888888,\"#fdca26\"],[1.0,\"#f0f921\"]]}],\"choropleth\":[{\"type\":\"choropleth\",\"colorbar\":{\"outlinewidth\":0,\"ticks\":\"\"}}],\"histogram2d\":[{\"type\":\"histogram2d\",\"colorbar\":{\"outlinewidth\":0,\"ticks\":\"\"},\"colorscale\":[[0.0,\"#0d0887\"],[0.1111111111111111,\"#46039f\"],[0.2222222222222222,\"#7201a8\"],[0.3333333333333333,\"#9c179e\"],[0.4444444444444444,\"#bd3786\"],[0.5555555555555556,\"#d8576b\"],[0.6666666666666666,\"#ed7953\"],[0.7777777777777778,\"#fb9f3a\"],[0.8888888888888888,\"#fdca26\"],[1.0,\"#f0f921\"]]}],\"heatmap\":[{\"type\":\"heatmap\",\"colorbar\":{\"outlinewidth\":0,\"ticks\":\"\"},\"colorscale\":[[0.0,\"#0d0887\"],[0.1111111111111111,\"#46039f\"],[0.2222222222222222,\"#7201a8\"],[0.3333333333333333,\"#9c179e\"],[0.4444444444444444,\"#bd3786\"],[0.5555555555555556,\"#d8576b\"],[0.6666666666666666,\"#ed7953\"],[0.7777777777777778,\"#fb9f3a\"],[0.8888888888888888,\"#fdca26\"],[1.0,\"#f0f921\"]]}],\"heatmapgl\":[{\"type\":\"heatmapgl\",\"colorbar\":{\"outlinewidth\":0,\"ticks\":\"\"},\"colorscale\":[[0.0,\"#0d0887\"],[0.1111111111111111,\"#46039f\"],[0.2222222222222222,\"#7201a8\"],[0.3333333333333333,\"#9c179e\"],[0.4444444444444444,\"#bd3786\"],[0.5555555555555556,\"#d8576b\"],[0.6666666666666666,\"#ed7953\"],[0.7777777777777778,\"#fb9f3a\"],[0.8888888888888888,\"#fdca26\"],[1.0,\"#f0f921\"]]}],\"contourcarpet\":[{\"type\":\"contourcarpet\",\"colorbar\":{\"outlinewidth\":0,\"ticks\":\"\"}}],\"contour\":[{\"type\":\"contour\",\"colorbar\":{\"outlinewidth\":0,\"ticks\":\"\"},\"colorscale\":[[0.0,\"#0d0887\"],[0.1111111111111111,\"#46039f\"],[0.2222222222222222,\"#7201a8\"],[0.3333333333333333,\"#9c179e\"],[0.4444444444444444,\"#bd3786\"],[0.5555555555555556,\"#d8576b\"],[0.6666666666666666,\"#ed7953\"],[0.7777777777777778,\"#fb9f3a\"],[0.8888888888888888,\"#fdca26\"],[1.0,\"#f0f921\"]]}],\"surface\":[{\"type\":\"surface\",\"colorbar\":{\"outlinewidth\":0,\"ticks\":\"\"},\"colorscale\":[[0.0,\"#0d0887\"],[0.1111111111111111,\"#46039f\"],[0.2222222222222222,\"#7201a8\"],[0.3333333333333333,\"#9c179e\"],[0.4444444444444444,\"#bd3786\"],[0.5555555555555556,\"#d8576b\"],[0.6666666666666666,\"#ed7953\"],[0.7777777777777778,\"#fb9f3a\"],[0.8888888888888888,\"#fdca26\"],[1.0,\"#f0f921\"]]}],\"mesh3d\":[{\"type\":\"mesh3d\",\"colorbar\":{\"outlinewidth\":0,\"ticks\":\"\"}}],\"scatter\":[{\"fillpattern\":{\"fillmode\":\"overlay\",\"size\":10,\"solidity\":0.2},\"type\":\"scatter\"}],\"parcoords\":[{\"type\":\"parcoords\",\"line\":{\"colorbar\":{\"outlinewidth\":0,\"ticks\":\"\"}}}],\"scatterpolargl\":[{\"type\":\"scatterpolargl\",\"marker\":{\"colorbar\":{\"outlinewidth\":0,\"ticks\":\"\"}}}],\"bar\":[{\"error_x\":{\"color\":\"#2a3f5f\"},\"error_y\":{\"color\":\"#2a3f5f\"},\"marker\":{\"line\":{\"color\":\"#E5ECF6\",\"width\":0.5},\"pattern\":{\"fillmode\":\"overlay\",\"size\":10,\"solidity\":0.2}},\"type\":\"bar\"}],\"scattergeo\":[{\"type\":\"scattergeo\",\"marker\":{\"colorbar\":{\"outlinewidth\":0,\"ticks\":\"\"}}}],\"scatterpolar\":[{\"type\":\"scatterpolar\",\"marker\":{\"colorbar\":{\"outlinewidth\":0,\"ticks\":\"\"}}}],\"histogram\":[{\"marker\":{\"pattern\":{\"fillmode\":\"overlay\",\"size\":10,\"solidity\":0.2}},\"type\":\"histogram\"}],\"scattergl\":[{\"type\":\"scattergl\",\"marker\":{\"colorbar\":{\"outlinewidth\":0,\"ticks\":\"\"}}}],\"scatter3d\":[{\"type\":\"scatter3d\",\"line\":{\"colorbar\":{\"outlinewidth\":0,\"ticks\":\"\"}},\"marker\":{\"colorbar\":{\"outlinewidth\":0,\"ticks\":\"\"}}}],\"scattermapbox\":[{\"type\":\"scattermapbox\",\"marker\":{\"colorbar\":{\"outlinewidth\":0,\"ticks\":\"\"}}}],\"scatterternary\":[{\"type\":\"scatterternary\",\"marker\":{\"colorbar\":{\"outlinewidth\":0,\"ticks\":\"\"}}}],\"scattercarpet\":[{\"type\":\"scattercarpet\",\"marker\":{\"colorbar\":{\"outlinewidth\":0,\"ticks\":\"\"}}}],\"carpet\":[{\"aaxis\":{\"endlinecolor\":\"#2a3f5f\",\"gridcolor\":\"white\",\"linecolor\":\"white\",\"minorgridcolor\":\"white\",\"startlinecolor\":\"#2a3f5f\"},\"baxis\":{\"endlinecolor\":\"#2a3f5f\",\"gridcolor\":\"white\",\"linecolor\":\"white\",\"minorgridcolor\":\"white\",\"startlinecolor\":\"#2a3f5f\"},\"type\":\"carpet\"}],\"table\":[{\"cells\":{\"fill\":{\"color\":\"#EBF0F8\"},\"line\":{\"color\":\"white\"}},\"header\":{\"fill\":{\"color\":\"#C8D4E3\"},\"line\":{\"color\":\"white\"}},\"type\":\"table\"}],\"barpolar\":[{\"marker\":{\"line\":{\"color\":\"#E5ECF6\",\"width\":0.5},\"pattern\":{\"fillmode\":\"overlay\",\"size\":10,\"solidity\":0.2}},\"type\":\"barpolar\"}],\"pie\":[{\"automargin\":true,\"type\":\"pie\"}]},\"layout\":{\"autotypenumbers\":\"strict\",\"colorway\":[\"#636efa\",\"#EF553B\",\"#00cc96\",\"#ab63fa\",\"#FFA15A\",\"#19d3f3\",\"#FF6692\",\"#B6E880\",\"#FF97FF\",\"#FECB52\"],\"font\":{\"color\":\"#2a3f5f\"},\"hovermode\":\"closest\",\"hoverlabel\":{\"align\":\"left\"},\"paper_bgcolor\":\"white\",\"plot_bgcolor\":\"#E5ECF6\",\"polar\":{\"bgcolor\":\"#E5ECF6\",\"angularaxis\":{\"gridcolor\":\"white\",\"linecolor\":\"white\",\"ticks\":\"\"},\"radialaxis\":{\"gridcolor\":\"white\",\"linecolor\":\"white\",\"ticks\":\"\"}},\"ternary\":{\"bgcolor\":\"#E5ECF6\",\"aaxis\":{\"gridcolor\":\"white\",\"linecolor\":\"white\",\"ticks\":\"\"},\"baxis\":{\"gridcolor\":\"white\",\"linecolor\":\"white\",\"ticks\":\"\"},\"caxis\":{\"gridcolor\":\"white\",\"linecolor\":\"white\",\"ticks\":\"\"}},\"coloraxis\":{\"colorbar\":{\"outlinewidth\":0,\"ticks\":\"\"}},\"colorscale\":{\"sequential\":[[0.0,\"#0d0887\"],[0.1111111111111111,\"#46039f\"],[0.2222222222222222,\"#7201a8\"],[0.3333333333333333,\"#9c179e\"],[0.4444444444444444,\"#bd3786\"],[0.5555555555555556,\"#d8576b\"],[0.6666666666666666,\"#ed7953\"],[0.7777777777777778,\"#fb9f3a\"],[0.8888888888888888,\"#fdca26\"],[1.0,\"#f0f921\"]],\"sequentialminus\":[[0.0,\"#0d0887\"],[0.1111111111111111,\"#46039f\"],[0.2222222222222222,\"#7201a8\"],[0.3333333333333333,\"#9c179e\"],[0.4444444444444444,\"#bd3786\"],[0.5555555555555556,\"#d8576b\"],[0.6666666666666666,\"#ed7953\"],[0.7777777777777778,\"#fb9f3a\"],[0.8888888888888888,\"#fdca26\"],[1.0,\"#f0f921\"]],\"diverging\":[[0,\"#8e0152\"],[0.1,\"#c51b7d\"],[0.2,\"#de77ae\"],[0.3,\"#f1b6da\"],[0.4,\"#fde0ef\"],[0.5,\"#f7f7f7\"],[0.6,\"#e6f5d0\"],[0.7,\"#b8e186\"],[0.8,\"#7fbc41\"],[0.9,\"#4d9221\"],[1,\"#276419\"]]},\"xaxis\":{\"gridcolor\":\"white\",\"linecolor\":\"white\",\"ticks\":\"\",\"title\":{\"standoff\":15},\"zerolinecolor\":\"white\",\"automargin\":true,\"zerolinewidth\":2},\"yaxis\":{\"gridcolor\":\"white\",\"linecolor\":\"white\",\"ticks\":\"\",\"title\":{\"standoff\":15},\"zerolinecolor\":\"white\",\"automargin\":true,\"zerolinewidth\":2},\"scene\":{\"xaxis\":{\"backgroundcolor\":\"#E5ECF6\",\"gridcolor\":\"white\",\"linecolor\":\"white\",\"showbackground\":true,\"ticks\":\"\",\"zerolinecolor\":\"white\",\"gridwidth\":2},\"yaxis\":{\"backgroundcolor\":\"#E5ECF6\",\"gridcolor\":\"white\",\"linecolor\":\"white\",\"showbackground\":true,\"ticks\":\"\",\"zerolinecolor\":\"white\",\"gridwidth\":2},\"zaxis\":{\"backgroundcolor\":\"#E5ECF6\",\"gridcolor\":\"white\",\"linecolor\":\"white\",\"showbackground\":true,\"ticks\":\"\",\"zerolinecolor\":\"white\",\"gridwidth\":2}},\"shapedefaults\":{\"line\":{\"color\":\"#2a3f5f\"}},\"annotationdefaults\":{\"arrowcolor\":\"#2a3f5f\",\"arrowhead\":0,\"arrowwidth\":1},\"geo\":{\"bgcolor\":\"white\",\"landcolor\":\"#E5ECF6\",\"subunitcolor\":\"white\",\"showland\":true,\"showlakes\":true,\"lakecolor\":\"white\"},\"title\":{\"x\":0.05},\"mapbox\":{\"style\":\"light\"}}},\"xaxis\":{\"anchor\":\"y\",\"domain\":[0.0,1.0],\"title\":{\"text\":\"Features\"}},\"yaxis\":{\"anchor\":\"x\",\"domain\":[0.0,1.0],\"title\":{\"text\":\"Importance\"}},\"legend\":{\"tracegroupgap\":0},\"title\":{\"text\":\"Feature Importance\"},\"barmode\":\"relative\"},                        {\"responsive\": true}                    ).then(function(){\n",
       "                            \n",
       "var gd = document.getElementById('ba109965-7d7f-4346-9112-8ba2c4cf0145');\n",
       "var x = new MutationObserver(function (mutations, observer) {{\n",
       "        var display = window.getComputedStyle(gd).display;\n",
       "        if (!display || display === 'none') {{\n",
       "            console.log([gd, 'removed!']);\n",
       "            Plotly.purge(gd);\n",
       "            observer.disconnect();\n",
       "        }}\n",
       "}});\n",
       "\n",
       "// Listen for the removal of the full notebook cells\n",
       "var notebookContainer = gd.closest('#notebook-container');\n",
       "if (notebookContainer) {{\n",
       "    x.observe(notebookContainer, {childList: true});\n",
       "}}\n",
       "\n",
       "// Listen for the clearing of the current output cell\n",
       "var outputEl = gd.closest('.output');\n",
       "if (outputEl) {{\n",
       "    x.observe(outputEl, {childList: true});\n",
       "}}\n",
       "\n",
       "                        })                };                            </script>        </div>\n",
       "</body>\n",
       "</html>"
      ]
     },
     "metadata": {},
     "output_type": "display_data"
    }
   ],
   "source": [
    "import plotly.express as px\n",
    "fig = px.bar(RF_feature_imp.sort_values('Importance', ascending = False), \n",
    "             x = RF_feature_imp.sort_values('Importance', ascending = False).index, \n",
    "             y = 'Importance', \n",
    "             title = \"Feature Importance\", \n",
    "             labels = dict(x = \"Features\", y =\"Feature_Importance\"))\n",
    "fig.show()"
   ]
  },
  {
   "cell_type": "markdown",
   "id": "3450969c",
   "metadata": {
    "papermill": {
     "duration": 0.01942,
     "end_time": "2025-09-03T10:29:38.172906",
     "exception": false,
     "start_time": "2025-09-03T10:29:38.153486",
     "status": "completed"
    },
    "tags": []
   },
   "source": [
    "### 5-Fold Cross Validation for Random Forest"
   ]
  },
  {
   "cell_type": "code",
   "execution_count": 44,
   "id": "076b90ab",
   "metadata": {
    "execution": {
     "iopub.execute_input": "2025-09-03T10:29:38.213031Z",
     "iopub.status.busy": "2025-09-03T10:29:38.212549Z",
     "iopub.status.idle": "2025-09-03T11:06:47.127131Z",
     "shell.execute_reply": "2025-09-03T11:06:47.124709Z"
    },
    "papermill": {
     "duration": 2228.970767,
     "end_time": "2025-09-03T11:06:47.162923",
     "exception": false,
     "start_time": "2025-09-03T10:29:38.192156",
     "status": "completed"
    },
    "tags": []
   },
   "outputs": [
    {
     "name": "stdout",
     "output_type": "stream",
     "text": [
      "Cross Validation scores for Random Forest with default parameters\n"
     ]
    },
    {
     "data": {
      "text/plain": [
       "test_accuracy     0.998515\n",
       "test_precision    0.972661\n",
       "test_recall       0.734647\n",
       "test_f1           0.837044\n",
       "test_roc_auc      0.987372\n",
       "dtype: float64"
      ]
     },
     "execution_count": 44,
     "metadata": {},
     "output_type": "execute_result"
    }
   ],
   "source": [
    "print('Cross Validation scores for Random Forest with default parameters')\n",
    "RF_cv = RandomForestClassifier(class_weight = \"balanced\", random_state = 42)\n",
    "RF_cv_scores = cross_validate(RF_cv, X_train_scaled, y_train, \n",
    "                              scoring = ['accuracy', 'precision','recall', 'f1', 'roc_auc'], cv = 5)\n",
    "RF_cv_scores = pd.DataFrame(RF_cv_scores, index = range(1, 6))\n",
    "RF_cv_scores.mean()[2:]"
   ]
  },
  {
   "cell_type": "code",
   "execution_count": 45,
   "id": "46cdb960",
   "metadata": {
    "execution": {
     "iopub.execute_input": "2025-09-03T11:06:47.209078Z",
     "iopub.status.busy": "2025-09-03T11:06:47.208577Z",
     "iopub.status.idle": "2025-09-03T11:06:47.226693Z",
     "shell.execute_reply": "2025-09-03T11:06:47.225527Z"
    },
    "papermill": {
     "duration": 0.043565,
     "end_time": "2025-09-03T11:06:47.228908",
     "exception": false,
     "start_time": "2025-09-03T11:06:47.185343",
     "status": "completed"
    },
    "tags": []
   },
   "outputs": [
    {
     "data": {
      "text/html": [
       "<div>\n",
       "<style scoped>\n",
       "    .dataframe tbody tr th:only-of-type {\n",
       "        vertical-align: middle;\n",
       "    }\n",
       "\n",
       "    .dataframe tbody tr th {\n",
       "        vertical-align: top;\n",
       "    }\n",
       "\n",
       "    .dataframe thead th {\n",
       "        text-align: right;\n",
       "    }\n",
       "</style>\n",
       "<table border=\"1\" class=\"dataframe\">\n",
       "  <thead>\n",
       "    <tr style=\"text-align: right;\">\n",
       "      <th></th>\n",
       "      <th>fit_time</th>\n",
       "      <th>score_time</th>\n",
       "      <th>test_accuracy</th>\n",
       "      <th>test_precision</th>\n",
       "      <th>test_recall</th>\n",
       "      <th>test_f1</th>\n",
       "      <th>test_roc_auc</th>\n",
       "    </tr>\n",
       "  </thead>\n",
       "  <tbody>\n",
       "    <tr>\n",
       "      <th>1</th>\n",
       "      <td>454.248524</td>\n",
       "      <td>10.671709</td>\n",
       "      <td>0.998596</td>\n",
       "      <td>0.984565</td>\n",
       "      <td>0.741284</td>\n",
       "      <td>0.845778</td>\n",
       "      <td>0.988476</td>\n",
       "    </tr>\n",
       "    <tr>\n",
       "      <th>2</th>\n",
       "      <td>473.907539</td>\n",
       "      <td>9.780962</td>\n",
       "      <td>0.998492</td>\n",
       "      <td>0.971545</td>\n",
       "      <td>0.730887</td>\n",
       "      <td>0.834206</td>\n",
       "      <td>0.991446</td>\n",
       "    </tr>\n",
       "    <tr>\n",
       "      <th>3</th>\n",
       "      <td>412.737801</td>\n",
       "      <td>9.571816</td>\n",
       "      <td>0.998463</td>\n",
       "      <td>0.972108</td>\n",
       "      <td>0.724771</td>\n",
       "      <td>0.830413</td>\n",
       "      <td>0.984071</td>\n",
       "    </tr>\n",
       "    <tr>\n",
       "      <th>4</th>\n",
       "      <td>422.733210</td>\n",
       "      <td>9.774597</td>\n",
       "      <td>0.998507</td>\n",
       "      <td>0.964143</td>\n",
       "      <td>0.740061</td>\n",
       "      <td>0.837370</td>\n",
       "      <td>0.985064</td>\n",
       "    </tr>\n",
       "    <tr>\n",
       "      <th>5</th>\n",
       "      <td>415.249876</td>\n",
       "      <td>10.031551</td>\n",
       "      <td>0.998517</td>\n",
       "      <td>0.970944</td>\n",
       "      <td>0.736230</td>\n",
       "      <td>0.837452</td>\n",
       "      <td>0.987804</td>\n",
       "    </tr>\n",
       "  </tbody>\n",
       "</table>\n",
       "</div>"
      ],
      "text/plain": [
       "     fit_time  score_time  test_accuracy  test_precision  test_recall  \\\n",
       "1  454.248524   10.671709       0.998596        0.984565     0.741284   \n",
       "2  473.907539    9.780962       0.998492        0.971545     0.730887   \n",
       "3  412.737801    9.571816       0.998463        0.972108     0.724771   \n",
       "4  422.733210    9.774597       0.998507        0.964143     0.740061   \n",
       "5  415.249876   10.031551       0.998517        0.970944     0.736230   \n",
       "\n",
       "    test_f1  test_roc_auc  \n",
       "1  0.845778      0.988476  \n",
       "2  0.834206      0.991446  \n",
       "3  0.830413      0.984071  \n",
       "4  0.837370      0.985064  \n",
       "5  0.837452      0.987804  "
      ]
     },
     "execution_count": 45,
     "metadata": {},
     "output_type": "execute_result"
    }
   ],
   "source": [
    "RF_cv_scores"
   ]
  },
  {
   "cell_type": "markdown",
   "id": "7de33968",
   "metadata": {
    "papermill": {
     "duration": 0.02143,
     "end_time": "2025-09-03T11:06:47.504096",
     "exception": false,
     "start_time": "2025-09-03T11:06:47.482666",
     "status": "completed"
    },
    "tags": []
   },
   "source": [
    "### Grid Search for Random Forest"
   ]
  },
  {
   "cell_type": "code",
   "execution_count": 46,
   "id": "6c2d80fa",
   "metadata": {
    "execution": {
     "iopub.execute_input": "2025-09-03T11:06:47.547578Z",
     "iopub.status.busy": "2025-09-03T11:06:47.547235Z",
     "iopub.status.idle": "2025-09-03T11:06:47.553094Z",
     "shell.execute_reply": "2025-09-03T11:06:47.551562Z"
    },
    "papermill": {
     "duration": 0.030415,
     "end_time": "2025-09-03T11:06:47.554873",
     "exception": false,
     "start_time": "2025-09-03T11:06:47.524458",
     "status": "completed"
    },
    "tags": []
   },
   "outputs": [],
   "source": [
    "# can be any other parameters for tuning\n",
    "# param_grid = {'n_estimators' : [50, 100, 300], # number of trees in the forest\n",
    "#               'max_features' : [2, 3, 4], # number of features to consider when splitting a node\n",
    "#               'max_depth' : [3, 5, 7], # maximum depth of each tree, a shallow tree may underfit while a deep tree may overfit.\n",
    "#               'min_samples_split' : [2, 5, 8] # minimum number of samples required to split an internal node, e.g. every node has 2 subnodes\n",
    "#              } \n",
    "\n",
    "# RF_grid = RandomForestClassifier(class_weight = 'balanced', random_state = 42)\n",
    "# RF_grid_model = GridSearchCV(estimator = RF_grid, \n",
    "#                              param_grid = param_grid, \n",
    "#                              scoring = \"f1\", \n",
    "#                              n_jobs = -1, verbose = 2)\n",
    "# RF_grid_model.fit(X_train_scaled, y_train)\n",
    "\n",
    "# print('Best Estimators of GridSearchCV for Random Forest Model: '), RF_grid_model.best_estimator_)\n",
    "\n",
    "# print('Best Parameters of GridSearchCV for Random Forest Model: '), RF_grid_model.best_params_)"
   ]
  },
  {
   "cell_type": "code",
   "execution_count": 47,
   "id": "0e7b1775",
   "metadata": {
    "execution": {
     "iopub.execute_input": "2025-09-03T11:06:47.597751Z",
     "iopub.status.busy": "2025-09-03T11:06:47.597429Z",
     "iopub.status.idle": "2025-09-03T11:06:47.602663Z",
     "shell.execute_reply": "2025-09-03T11:06:47.601325Z"
    },
    "papermill": {
     "duration": 0.029613,
     "end_time": "2025-09-03T11:06:47.604655",
     "exception": false,
     "start_time": "2025-09-03T11:06:47.575042",
     "status": "completed"
    },
    "tags": []
   },
   "outputs": [],
   "source": [
    "# RF_tuned = RandomForestClassifier(class_weight = 'balanced',\n",
    "#                                   max_depth = 5,\n",
    "#                                   max_features = 2,\n",
    "#                                   min_samples_split = 5,\n",
    "#                                   n_estimators = 50,\n",
    "#                                   random_state = 42).fit(X_train_scaled, y_train)\n",
    "\n",
    "# y_train_pred = RF_tuned.predict(X_train_scaled)\n",
    "# y_pred = RF_tuned.predict(X_test_scaled)\n",
    "# print(\"Random Forest Model with Best Parameter\")\n",
    "# print(\"------------------\")\n",
    "# eval(RF_model, X_train_scaled, X_test_scaled, y_test, y_pred_train, y_pred)"
   ]
  },
  {
   "cell_type": "markdown",
   "id": "772a015a",
   "metadata": {
    "papermill": {
     "duration": 0.020137,
     "end_time": "2025-09-03T11:06:47.646126",
     "exception": false,
     "start_time": "2025-09-03T11:06:47.625989",
     "status": "completed"
    },
    "tags": []
   },
   "source": [
    "# Unsupervised Machine Learning Method - Anomaly Detection"
   ]
  },
  {
   "cell_type": "code",
   "execution_count": null,
   "id": "ffeb8d42",
   "metadata": {
    "papermill": {
     "duration": 0.020578,
     "end_time": "2025-09-03T11:06:47.687971",
     "exception": false,
     "start_time": "2025-09-03T11:06:47.667393",
     "status": "completed"
    },
    "tags": []
   },
   "outputs": [],
   "source": []
  }
 ],
 "metadata": {
  "kaggle": {
   "accelerator": "none",
   "dataSources": [
    {
     "datasetId": 817870,
     "isSourceIdPinned": false,
     "sourceId": 1399887,
     "sourceType": "datasetVersion"
    }
   ],
   "dockerImageVersionId": 31089,
   "isGpuEnabled": false,
   "isInternetEnabled": true,
   "language": "python",
   "sourceType": "notebook"
  },
  "kernelspec": {
   "display_name": "Python 3",
   "language": "python",
   "name": "python3"
  },
  "language_info": {
   "codemirror_mode": {
    "name": "ipython",
    "version": 3
   },
   "file_extension": ".py",
   "mimetype": "text/x-python",
   "name": "python",
   "nbconvert_exporter": "python",
   "pygments_lexer": "ipython3",
   "version": "3.11.13"
  },
  "papermill": {
   "default_parameters": {},
   "duration": 4879.357674,
   "end_time": "2025-09-03T11:06:50.344218",
   "environment_variables": {},
   "exception": null,
   "input_path": "__notebook__.ipynb",
   "output_path": "__notebook__.ipynb",
   "parameters": {},
   "start_time": "2025-09-03T09:45:30.986544",
   "version": "2.6.0"
  }
 },
 "nbformat": 4,
 "nbformat_minor": 5
}
