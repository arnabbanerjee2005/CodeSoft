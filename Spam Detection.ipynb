{
 "cells": [
  {
   "cell_type": "code",
   "execution_count": 1,
   "id": "435f06d7",
   "metadata": {
    "_cell_guid": "b1076dfc-b9ad-4769-8c92-a6c4dae69d19",
    "_uuid": "8f2839f25d086af736a60e9eeb907d3b93b6e0e5",
    "execution": {
     "iopub.execute_input": "2025-08-18T09:56:52.165776Z",
     "iopub.status.busy": "2025-08-18T09:56:52.165433Z",
     "iopub.status.idle": "2025-08-18T09:56:53.974013Z",
     "shell.execute_reply": "2025-08-18T09:56:53.972950Z"
    },
    "papermill": {
     "duration": 1.816228,
     "end_time": "2025-08-18T09:56:53.975530",
     "exception": false,
     "start_time": "2025-08-18T09:56:52.159302",
     "status": "completed"
    },
    "tags": []
   },
   "outputs": [
    {
     "name": "stdout",
     "output_type": "stream",
     "text": [
      "/kaggle/input/sms-spam-collection-dataset/spam.csv\n"
     ]
    }
   ],
   "source": [
    "# This Python 3 environment comes with many helpful analytics libraries installed\n",
    "# It is defined by the kaggle/python Docker image: https://github.com/kaggle/docker-python\n",
    "# For example, here's several helpful packages to load\n",
    "\n",
    "import numpy as np # linear algebra\n",
    "import pandas as pd # data processing, CSV file I/O (e.g. pd.read_csv)\n",
    "\n",
    "# Input data files are available in the read-only \"../input/\" directory\n",
    "# For example, running this (by clicking run or pressing Shift+Enter) will list all files under the input directory\n",
    "\n",
    "import os\n",
    "for dirname, _, filenames in os.walk('/kaggle/input'):\n",
    "    for filename in filenames:\n",
    "        print(os.path.join(dirname, filename))\n",
    "\n",
    "# You can write up to 20GB to the current directory (/kaggle/working/) that gets preserved as output when you create a version using \"Save & Run All\" \n",
    "# You can also write temporary files to /kaggle/temp/, but they won't be saved outside of the current session"
   ]
  },
  {
   "cell_type": "code",
   "execution_count": 2,
   "id": "ed732a97",
   "metadata": {
    "execution": {
     "iopub.execute_input": "2025-08-18T09:56:53.984788Z",
     "iopub.status.busy": "2025-08-18T09:56:53.984331Z",
     "iopub.status.idle": "2025-08-18T09:56:54.027283Z",
     "shell.execute_reply": "2025-08-18T09:56:54.026309Z"
    },
    "papermill": {
     "duration": 0.049385,
     "end_time": "2025-08-18T09:56:54.029137",
     "exception": false,
     "start_time": "2025-08-18T09:56:53.979752",
     "status": "completed"
    },
    "tags": []
   },
   "outputs": [],
   "source": [
    "df = pd.read_csv('/kaggle/input/sms-spam-collection-dataset/spam.csv',encoding=\"latin-1\")"
   ]
  },
  {
   "cell_type": "code",
   "execution_count": 3,
   "id": "00e155e3",
   "metadata": {
    "execution": {
     "iopub.execute_input": "2025-08-18T09:56:54.038274Z",
     "iopub.status.busy": "2025-08-18T09:56:54.037966Z",
     "iopub.status.idle": "2025-08-18T09:56:54.053132Z",
     "shell.execute_reply": "2025-08-18T09:56:54.052235Z"
    },
    "papermill": {
     "duration": 0.021181,
     "end_time": "2025-08-18T09:56:54.054547",
     "exception": false,
     "start_time": "2025-08-18T09:56:54.033366",
     "status": "completed"
    },
    "tags": []
   },
   "outputs": [],
   "source": [
    "df = df.dropna(how=\"any\", axis=1)\n",
    "df.columns = ['target', 'message']\n"
   ]
  },
  {
   "cell_type": "code",
   "execution_count": 4,
   "id": "55c56135",
   "metadata": {
    "execution": {
     "iopub.execute_input": "2025-08-18T09:56:54.066109Z",
     "iopub.status.busy": "2025-08-18T09:56:54.065236Z",
     "iopub.status.idle": "2025-08-18T09:56:54.071667Z",
     "shell.execute_reply": "2025-08-18T09:56:54.070746Z"
    },
    "papermill": {
     "duration": 0.01283,
     "end_time": "2025-08-18T09:56:54.073106",
     "exception": false,
     "start_time": "2025-08-18T09:56:54.060276",
     "status": "completed"
    },
    "tags": []
   },
   "outputs": [],
   "source": [
    "import re\n",
    "import string\n",
    "\n",
    "def clean_text(text):\n",
    "    text = str(text).lower()\n",
    "    text = re.sub('\\[.*?\\]', '', text)\n",
    "    text = re.sub('https?://\\S+|www\\.\\S+', '', text)\n",
    "    text = re.sub('<.*?>+', '', text)\n",
    "    text = re.sub('[%s]' % re.escape(string.punctuation), '', text)\n",
    "    text = re.sub('\\n', '', text)\n",
    "    text = re.sub('\\w*\\d\\w*', '', text)\n",
    "    return text"
   ]
  },
  {
   "cell_type": "code",
   "execution_count": 5,
   "id": "da46a9a4",
   "metadata": {
    "execution": {
     "iopub.execute_input": "2025-08-18T09:56:54.082050Z",
     "iopub.status.busy": "2025-08-18T09:56:54.081731Z",
     "iopub.status.idle": "2025-08-18T09:56:54.201751Z",
     "shell.execute_reply": "2025-08-18T09:56:54.200854Z"
    },
    "papermill": {
     "duration": 0.126371,
     "end_time": "2025-08-18T09:56:54.203366",
     "exception": false,
     "start_time": "2025-08-18T09:56:54.076995",
     "status": "completed"
    },
    "tags": []
   },
   "outputs": [],
   "source": [
    "df['messageClean'] = df['message'].apply(clean_text)"
   ]
  },
  {
   "cell_type": "code",
   "execution_count": 6,
   "id": "cf28204e",
   "metadata": {
    "execution": {
     "iopub.execute_input": "2025-08-18T09:56:54.212196Z",
     "iopub.status.busy": "2025-08-18T09:56:54.211886Z",
     "iopub.status.idle": "2025-08-18T09:56:56.648571Z",
     "shell.execute_reply": "2025-08-18T09:56:56.647658Z"
    },
    "papermill": {
     "duration": 2.442909,
     "end_time": "2025-08-18T09:56:56.650208",
     "exception": false,
     "start_time": "2025-08-18T09:56:54.207299",
     "status": "completed"
    },
    "tags": []
   },
   "outputs": [],
   "source": [
    "import nltk\n",
    "from nltk.corpus import stopwords\n",
    "stop_words = stopwords.words('english')\n",
    "more_stopwords = ['u', 'im', 'c']\n",
    "stop_words = stop_words + more_stopwords\n",
    "\n",
    "def remove_stopwords(text):\n",
    "    text = ' '.join(word for word in text.split(' ') if word not in stop_words)\n",
    "    return text\n",
    "    \n",
    "df['messageClean'] = df['messageClean'].apply(remove_stopwords)\n"
   ]
  },
  {
   "cell_type": "code",
   "execution_count": 7,
   "id": "aac37286",
   "metadata": {
    "execution": {
     "iopub.execute_input": "2025-08-18T09:56:56.659386Z",
     "iopub.status.busy": "2025-08-18T09:56:56.658939Z",
     "iopub.status.idle": "2025-08-18T09:56:56.663744Z",
     "shell.execute_reply": "2025-08-18T09:56:56.662965Z"
    },
    "papermill": {
     "duration": 0.01084,
     "end_time": "2025-08-18T09:56:56.665040",
     "exception": false,
     "start_time": "2025-08-18T09:56:56.654200",
     "status": "completed"
    },
    "tags": []
   },
   "outputs": [],
   "source": [
    "stemmer = nltk.SnowballStemmer(\"english\")\n",
    "\n",
    "def stemm_text(text):\n",
    "    text = ' '.join(stemmer.stem(word) for word in text.split(' '))\n",
    "    return text"
   ]
  },
  {
   "cell_type": "code",
   "execution_count": 8,
   "id": "5f63113f",
   "metadata": {
    "execution": {
     "iopub.execute_input": "2025-08-18T09:56:56.673669Z",
     "iopub.status.busy": "2025-08-18T09:56:56.673330Z",
     "iopub.status.idle": "2025-08-18T09:56:57.155136Z",
     "shell.execute_reply": "2025-08-18T09:56:57.154413Z"
    },
    "papermill": {
     "duration": 0.487729,
     "end_time": "2025-08-18T09:56:57.156780",
     "exception": false,
     "start_time": "2025-08-18T09:56:56.669051",
     "status": "completed"
    },
    "tags": []
   },
   "outputs": [],
   "source": [
    "df['messageClean'] = df['messageClean'].apply(stemm_text)\n"
   ]
  },
  {
   "cell_type": "code",
   "execution_count": 9,
   "id": "94ed0e88",
   "metadata": {
    "execution": {
     "iopub.execute_input": "2025-08-18T09:56:57.166385Z",
     "iopub.status.busy": "2025-08-18T09:56:57.165990Z",
     "iopub.status.idle": "2025-08-18T09:56:57.190106Z",
     "shell.execute_reply": "2025-08-18T09:56:57.189297Z"
    },
    "papermill": {
     "duration": 0.030099,
     "end_time": "2025-08-18T09:56:57.191523",
     "exception": false,
     "start_time": "2025-08-18T09:56:57.161424",
     "status": "completed"
    },
    "tags": []
   },
   "outputs": [
    {
     "data": {
      "text/html": [
       "<div>\n",
       "<style scoped>\n",
       "    .dataframe tbody tr th:only-of-type {\n",
       "        vertical-align: middle;\n",
       "    }\n",
       "\n",
       "    .dataframe tbody tr th {\n",
       "        vertical-align: top;\n",
       "    }\n",
       "\n",
       "    .dataframe thead th {\n",
       "        text-align: right;\n",
       "    }\n",
       "</style>\n",
       "<table border=\"1\" class=\"dataframe\">\n",
       "  <thead>\n",
       "    <tr style=\"text-align: right;\">\n",
       "      <th></th>\n",
       "      <th>target</th>\n",
       "      <th>message</th>\n",
       "      <th>messageClean</th>\n",
       "      <th>target_encoded</th>\n",
       "    </tr>\n",
       "  </thead>\n",
       "  <tbody>\n",
       "    <tr>\n",
       "      <th>0</th>\n",
       "      <td>ham</td>\n",
       "      <td>Go until jurong point, crazy.. Available only ...</td>\n",
       "      <td>go jurong point crazi avail bugi n great world...</td>\n",
       "      <td>0</td>\n",
       "    </tr>\n",
       "    <tr>\n",
       "      <th>1</th>\n",
       "      <td>ham</td>\n",
       "      <td>Ok lar... Joking wif u oni...</td>\n",
       "      <td>ok lar joke wif oni</td>\n",
       "      <td>0</td>\n",
       "    </tr>\n",
       "    <tr>\n",
       "      <th>2</th>\n",
       "      <td>spam</td>\n",
       "      <td>Free entry in 2 a wkly comp to win FA Cup fina...</td>\n",
       "      <td>free entri  wkli comp win fa cup final tkts  m...</td>\n",
       "      <td>1</td>\n",
       "    </tr>\n",
       "    <tr>\n",
       "      <th>3</th>\n",
       "      <td>ham</td>\n",
       "      <td>U dun say so early hor... U c already then say...</td>\n",
       "      <td>dun say earli hor alreadi say</td>\n",
       "      <td>0</td>\n",
       "    </tr>\n",
       "    <tr>\n",
       "      <th>4</th>\n",
       "      <td>ham</td>\n",
       "      <td>Nah I don't think he goes to usf, he lives aro...</td>\n",
       "      <td>nah dont think goe usf live around though</td>\n",
       "      <td>0</td>\n",
       "    </tr>\n",
       "  </tbody>\n",
       "</table>\n",
       "</div>"
      ],
      "text/plain": [
       "  target                                            message  \\\n",
       "0    ham  Go until jurong point, crazy.. Available only ...   \n",
       "1    ham                      Ok lar... Joking wif u oni...   \n",
       "2   spam  Free entry in 2 a wkly comp to win FA Cup fina...   \n",
       "3    ham  U dun say so early hor... U c already then say...   \n",
       "4    ham  Nah I don't think he goes to usf, he lives aro...   \n",
       "\n",
       "                                        messageClean  target_encoded  \n",
       "0  go jurong point crazi avail bugi n great world...               0  \n",
       "1                                ok lar joke wif oni               0  \n",
       "2  free entri  wkli comp win fa cup final tkts  m...               1  \n",
       "3                      dun say earli hor alreadi say               0  \n",
       "4          nah dont think goe usf live around though               0  "
      ]
     },
     "execution_count": 9,
     "metadata": {},
     "output_type": "execute_result"
    }
   ],
   "source": [
    "from sklearn.preprocessing import LabelEncoder\n",
    "\n",
    "le = LabelEncoder()\n",
    "le.fit(df['target'])\n",
    "\n",
    "df['target_encoded'] = le.transform(df['target'])\n",
    "df.head()\n"
   ]
  },
  {
   "cell_type": "markdown",
   "id": "33c16f39",
   "metadata": {
    "papermill": {
     "duration": 0.003654,
     "end_time": "2025-08-18T09:56:57.199202",
     "exception": false,
     "start_time": "2025-08-18T09:56:57.195548",
     "status": "completed"
    },
    "tags": []
   },
   "source": [
    "Before"
   ]
  },
  {
   "cell_type": "code",
   "execution_count": 10,
   "id": "37bd1588",
   "metadata": {
    "execution": {
     "iopub.execute_input": "2025-08-18T09:56:57.207825Z",
     "iopub.status.busy": "2025-08-18T09:56:57.207489Z",
     "iopub.status.idle": "2025-08-18T09:56:57.214190Z",
     "shell.execute_reply": "2025-08-18T09:56:57.213470Z"
    },
    "papermill": {
     "duration": 0.012448,
     "end_time": "2025-08-18T09:56:57.215437",
     "exception": false,
     "start_time": "2025-08-18T09:56:57.202989",
     "status": "completed"
    },
    "tags": []
   },
   "outputs": [
    {
     "data": {
      "text/plain": [
       "0       Go until jurong point, crazy.. Available only ...\n",
       "1                           Ok lar... Joking wif u oni...\n",
       "2       Free entry in 2 a wkly comp to win FA Cup fina...\n",
       "3       U dun say so early hor... U c already then say...\n",
       "4       Nah I don't think he goes to usf, he lives aro...\n",
       "                              ...                        \n",
       "5567    This is the 2nd time we have tried 2 contact u...\n",
       "5568                Will Ì_ b going to esplanade fr home?\n",
       "5569    Pity, * was in mood for that. So...any other s...\n",
       "5570    The guy did some bitching but I acted like i'd...\n",
       "5571                           Rofl. Its true to its name\n",
       "Name: message, Length: 5572, dtype: object"
      ]
     },
     "execution_count": 10,
     "metadata": {},
     "output_type": "execute_result"
    }
   ],
   "source": [
    "df['message']\n"
   ]
  },
  {
   "cell_type": "markdown",
   "id": "e31d4761",
   "metadata": {
    "papermill": {
     "duration": 0.00366,
     "end_time": "2025-08-18T09:56:57.223048",
     "exception": false,
     "start_time": "2025-08-18T09:56:57.219388",
     "status": "completed"
    },
    "tags": []
   },
   "source": [
    "After"
   ]
  },
  {
   "cell_type": "code",
   "execution_count": 11,
   "id": "22f3fb81",
   "metadata": {
    "execution": {
     "iopub.execute_input": "2025-08-18T09:56:57.231550Z",
     "iopub.status.busy": "2025-08-18T09:56:57.231245Z",
     "iopub.status.idle": "2025-08-18T09:56:57.238218Z",
     "shell.execute_reply": "2025-08-18T09:56:57.237386Z"
    },
    "papermill": {
     "duration": 0.012864,
     "end_time": "2025-08-18T09:56:57.239632",
     "exception": false,
     "start_time": "2025-08-18T09:56:57.226768",
     "status": "completed"
    },
    "tags": []
   },
   "outputs": [
    {
     "data": {
      "text/plain": [
       "0       go jurong point crazi avail bugi n great world...\n",
       "1                                     ok lar joke wif oni\n",
       "2       free entri  wkli comp win fa cup final tkts  m...\n",
       "3                           dun say earli hor alreadi say\n",
       "4               nah dont think goe usf live around though\n",
       "                              ...                        \n",
       "5567     time tri  contact å£ pound prize  claim easi ...\n",
       "5568                              ì b go esplanad fr home\n",
       "5569                             piti  mood soani suggest\n",
       "5570    guy bitch act like id interest buy someth els ...\n",
       "5571                                       rofl true name\n",
       "Name: messageClean, Length: 5572, dtype: object"
      ]
     },
     "execution_count": 11,
     "metadata": {},
     "output_type": "execute_result"
    }
   ],
   "source": [
    "df['messageClean']"
   ]
  },
  {
   "cell_type": "code",
   "execution_count": 12,
   "id": "bae77d2a",
   "metadata": {
    "execution": {
     "iopub.execute_input": "2025-08-18T09:56:57.249417Z",
     "iopub.status.busy": "2025-08-18T09:56:57.249115Z",
     "iopub.status.idle": "2025-08-18T09:56:57.253330Z",
     "shell.execute_reply": "2025-08-18T09:56:57.252469Z"
    },
    "papermill": {
     "duration": 0.010683,
     "end_time": "2025-08-18T09:56:57.254798",
     "exception": false,
     "start_time": "2025-08-18T09:56:57.244115",
     "status": "completed"
    },
    "tags": []
   },
   "outputs": [],
   "source": [
    "x = df['messageClean']\n",
    "y = df['target_encoded']"
   ]
  },
  {
   "cell_type": "code",
   "execution_count": 13,
   "id": "679e706b",
   "metadata": {
    "execution": {
     "iopub.execute_input": "2025-08-18T09:56:57.264003Z",
     "iopub.status.busy": "2025-08-18T09:56:57.263693Z",
     "iopub.status.idle": "2025-08-18T09:56:57.271369Z",
     "shell.execute_reply": "2025-08-18T09:56:57.270499Z"
    },
    "papermill": {
     "duration": 0.013915,
     "end_time": "2025-08-18T09:56:57.272856",
     "exception": false,
     "start_time": "2025-08-18T09:56:57.258941",
     "status": "completed"
    },
    "tags": []
   },
   "outputs": [],
   "source": [
    "from sklearn.model_selection import train_test_split\n",
    "\n",
    "x_train, x_test, y_train, y_test = train_test_split(x, y, random_state=21, train_size=0.8)\n"
   ]
  },
  {
   "cell_type": "code",
   "execution_count": 14,
   "id": "acb13161",
   "metadata": {
    "execution": {
     "iopub.execute_input": "2025-08-18T09:56:57.281933Z",
     "iopub.status.busy": "2025-08-18T09:56:57.281623Z",
     "iopub.status.idle": "2025-08-18T09:56:57.367336Z",
     "shell.execute_reply": "2025-08-18T09:56:57.366640Z"
    },
    "papermill": {
     "duration": 0.092117,
     "end_time": "2025-08-18T09:56:57.369017",
     "exception": false,
     "start_time": "2025-08-18T09:56:57.276900",
     "status": "completed"
    },
    "tags": []
   },
   "outputs": [],
   "source": [
    "from sklearn.feature_extraction.text import TfidfVectorizer\n",
    "\n",
    "vectorizer = TfidfVectorizer(max_features=5000)  \n",
    "x_train_vec = vectorizer.fit_transform(x_train)\n",
    "x_test_vec = vectorizer.transform(x_test)\n"
   ]
  },
  {
   "cell_type": "code",
   "execution_count": 15,
   "id": "6ab34235",
   "metadata": {
    "execution": {
     "iopub.execute_input": "2025-08-18T09:56:57.378730Z",
     "iopub.status.busy": "2025-08-18T09:56:57.378090Z",
     "iopub.status.idle": "2025-08-18T09:56:57.414017Z",
     "shell.execute_reply": "2025-08-18T09:56:57.413217Z"
    },
    "papermill": {
     "duration": 0.042322,
     "end_time": "2025-08-18T09:56:57.415467",
     "exception": false,
     "start_time": "2025-08-18T09:56:57.373145",
     "status": "completed"
    },
    "tags": []
   },
   "outputs": [
    {
     "name": "stdout",
     "output_type": "stream",
     "text": [
      "Accuracy: 0.9650224215246637\n",
      "              precision    recall  f1-score   support\n",
      "\n",
      "           0       0.96      1.00      0.98       975\n",
      "           1       1.00      0.72      0.84       140\n",
      "\n",
      "    accuracy                           0.97      1115\n",
      "   macro avg       0.98      0.86      0.91      1115\n",
      "weighted avg       0.97      0.97      0.96      1115\n",
      "\n"
     ]
    }
   ],
   "source": [
    "from sklearn.naive_bayes import MultinomialNB\n",
    "from sklearn.metrics import classification_report, confusion_matrix, accuracy_score\n",
    "\n",
    "model = MultinomialNB()\n",
    "model.fit(x_train_vec, y_train)\n",
    "\n",
    "y_pred = model.predict(x_test_vec)\n",
    "\n",
    "print(\"Accuracy:\", accuracy_score(y_test, y_pred))\n",
    "print(classification_report(y_test, y_pred))\n"
   ]
  },
  {
   "cell_type": "markdown",
   "id": "758c0e94",
   "metadata": {
    "papermill": {
     "duration": 0.003698,
     "end_time": "2025-08-18T09:56:57.423263",
     "exception": false,
     "start_time": "2025-08-18T09:56:57.419565",
     "status": "completed"
    },
    "tags": []
   },
   "source": [
    "*You can try it yourself*\n"
   ]
  },
  {
   "cell_type": "code",
   "execution_count": 16,
   "id": "0a416234",
   "metadata": {
    "execution": {
     "iopub.execute_input": "2025-08-18T09:56:57.432384Z",
     "iopub.status.busy": "2025-08-18T09:56:57.431784Z",
     "iopub.status.idle": "2025-08-18T09:56:57.437434Z",
     "shell.execute_reply": "2025-08-18T09:56:57.436733Z"
    },
    "papermill": {
     "duration": 0.011837,
     "end_time": "2025-08-18T09:56:57.438909",
     "exception": false,
     "start_time": "2025-08-18T09:56:57.427072",
     "status": "completed"
    },
    "tags": []
   },
   "outputs": [],
   "source": [
    "msg = [\"WINNER!!\"]\n",
    "msg_vec = vectorizer.transform(msg)\n",
    "pred = model.predict(msg_vec)"
   ]
  },
  {
   "cell_type": "code",
   "execution_count": 17,
   "id": "53864dd5",
   "metadata": {
    "execution": {
     "iopub.execute_input": "2025-08-18T09:56:57.449405Z",
     "iopub.status.busy": "2025-08-18T09:56:57.448634Z",
     "iopub.status.idle": "2025-08-18T09:56:57.453322Z",
     "shell.execute_reply": "2025-08-18T09:56:57.452404Z"
    },
    "papermill": {
     "duration": 0.010904,
     "end_time": "2025-08-18T09:56:57.454522",
     "exception": false,
     "start_time": "2025-08-18T09:56:57.443618",
     "status": "completed"
    },
    "tags": []
   },
   "outputs": [
    {
     "name": "stdout",
     "output_type": "stream",
     "text": [
      "[1]\n"
     ]
    }
   ],
   "source": [
    "print(pred)"
   ]
  },
  {
   "cell_type": "code",
   "execution_count": null,
   "id": "d99886c0",
   "metadata": {
    "papermill": {
     "duration": 0.003748,
     "end_time": "2025-08-18T09:56:57.462296",
     "exception": false,
     "start_time": "2025-08-18T09:56:57.458548",
     "status": "completed"
    },
    "tags": []
   },
   "outputs": [],
   "source": []
  }
 ],
 "metadata": {
  "kaggle": {
   "accelerator": "none",
   "dataSources": [
    {
     "datasetId": 483,
     "sourceId": 982,
     "sourceType": "datasetVersion"
    }
   ],
   "dockerImageVersionId": 31089,
   "isGpuEnabled": false,
   "isInternetEnabled": true,
   "language": "python",
   "sourceType": "notebook"
  },
  "kernelspec": {
   "display_name": "Python 3",
   "language": "python",
   "name": "python3"
  },
  "language_info": {
   "codemirror_mode": {
    "name": "ipython",
    "version": 3
   },
   "file_extension": ".py",
   "mimetype": "text/x-python",
   "name": "python",
   "nbconvert_exporter": "python",
   "pygments_lexer": "ipython3",
   "version": "3.11.13"
  },
  "papermill": {
   "default_parameters": {},
   "duration": 10.814214,
   "end_time": "2025-08-18T09:56:58.186088",
   "environment_variables": {},
   "exception": null,
   "input_path": "__notebook__.ipynb",
   "output_path": "__notebook__.ipynb",
   "parameters": {},
   "start_time": "2025-08-18T09:56:47.371874",
   "version": "2.6.0"
  }
 },
 "nbformat": 4,
 "nbformat_minor": 5
}
